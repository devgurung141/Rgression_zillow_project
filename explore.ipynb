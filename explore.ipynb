{
 "cells": [
  {
   "cell_type": "code",
   "execution_count": 1,
   "id": "37b2e319",
   "metadata": {},
   "outputs": [],
   "source": [
    "import pandas as pd\n",
    "import numpy as np\n",
    "\n",
    "import matplotlib.pyplot as plt\n",
    "import seaborn as sns\n",
    "import scipy.stats as stats\n",
    "\n",
    "from sklearn.linear_model import LinearRegression, LassoLars, TweedieRegressor\n",
    "from sklearn.metrics import mean_squared_error, r2_score, explained_variance_score\n",
    "from sklearn.preprocessing import MinMaxScaler, StandardScaler, RobustScaler, QuantileTransformer, PolynomialFeatures\n",
    "\n",
    "import wrangle\n",
    "import explore\n",
    "import modelling\n",
    "\n",
    "import warnings\n",
    "warnings.filterwarnings(\"ignore\")\n",
    "\n",
    "%matplotlib inline\n",
    "\n",
    "# 6037 Los Angeles County\n",
    "# 6111 Ventura County\n",
    "# 6059 Orange County"
   ]
  },
  {
   "cell_type": "code",
   "execution_count": 2,
   "id": "12953c5e",
   "metadata": {},
   "outputs": [],
   "source": [
    "# acquire data and split data using a function from wrangle module\n",
    "zillow = wrangle.get_zillow()\n"
   ]
  },
  {
   "cell_type": "code",
   "execution_count": 3,
   "id": "f185ff29",
   "metadata": {},
   "outputs": [
    {
     "data": {
      "text/html": [
       "<div>\n",
       "<style scoped>\n",
       "    .dataframe tbody tr th:only-of-type {\n",
       "        vertical-align: middle;\n",
       "    }\n",
       "\n",
       "    .dataframe tbody tr th {\n",
       "        vertical-align: top;\n",
       "    }\n",
       "\n",
       "    .dataframe thead th {\n",
       "        text-align: right;\n",
       "    }\n",
       "</style>\n",
       "<table border=\"1\" class=\"dataframe\">\n",
       "  <thead>\n",
       "    <tr style=\"text-align: right;\">\n",
       "      <th></th>\n",
       "      <th>bathroomcnt</th>\n",
       "      <th>bedroomcnt</th>\n",
       "      <th>calculatedfinishedsquarefeet</th>\n",
       "      <th>taxvaluedollarcnt</th>\n",
       "      <th>fips</th>\n",
       "    </tr>\n",
       "  </thead>\n",
       "  <tbody>\n",
       "    <tr>\n",
       "      <th>0</th>\n",
       "      <td>3.5</td>\n",
       "      <td>4.0</td>\n",
       "      <td>3100.0</td>\n",
       "      <td>1023282.0</td>\n",
       "      <td>6059.0</td>\n",
       "    </tr>\n",
       "    <tr>\n",
       "      <th>1</th>\n",
       "      <td>1.0</td>\n",
       "      <td>2.0</td>\n",
       "      <td>1465.0</td>\n",
       "      <td>464000.0</td>\n",
       "      <td>6111.0</td>\n",
       "    </tr>\n",
       "    <tr>\n",
       "      <th>2</th>\n",
       "      <td>2.0</td>\n",
       "      <td>3.0</td>\n",
       "      <td>1243.0</td>\n",
       "      <td>564778.0</td>\n",
       "      <td>6059.0</td>\n",
       "    </tr>\n",
       "    <tr>\n",
       "      <th>3</th>\n",
       "      <td>3.0</td>\n",
       "      <td>4.0</td>\n",
       "      <td>2376.0</td>\n",
       "      <td>145143.0</td>\n",
       "      <td>6037.0</td>\n",
       "    </tr>\n",
       "    <tr>\n",
       "      <th>4</th>\n",
       "      <td>3.0</td>\n",
       "      <td>4.0</td>\n",
       "      <td>2962.0</td>\n",
       "      <td>773303.0</td>\n",
       "      <td>6037.0</td>\n",
       "    </tr>\n",
       "  </tbody>\n",
       "</table>\n",
       "</div>"
      ],
      "text/plain": [
       "   bathroomcnt  bedroomcnt  calculatedfinishedsquarefeet  taxvaluedollarcnt  \\\n",
       "0          3.5         4.0                        3100.0          1023282.0   \n",
       "1          1.0         2.0                        1465.0           464000.0   \n",
       "2          2.0         3.0                        1243.0           564778.0   \n",
       "3          3.0         4.0                        2376.0           145143.0   \n",
       "4          3.0         4.0                        2962.0           773303.0   \n",
       "\n",
       "     fips  \n",
       "0  6059.0  \n",
       "1  6111.0  \n",
       "2  6059.0  \n",
       "3  6037.0  \n",
       "4  6037.0  "
      ]
     },
     "execution_count": 3,
     "metadata": {},
     "output_type": "execute_result"
    }
   ],
   "source": [
    "zillow.head()"
   ]
  },
  {
   "cell_type": "code",
   "execution_count": 4,
   "id": "444c86bf",
   "metadata": {},
   "outputs": [
    {
     "name": "stdout",
     "output_type": "stream",
     "text": [
      "<class 'pandas.core.frame.DataFrame'>\n",
      "RangeIndex: 52442 entries, 0 to 52441\n",
      "Data columns (total 5 columns):\n",
      " #   Column                        Non-Null Count  Dtype  \n",
      "---  ------                        --------------  -----  \n",
      " 0   bathroomcnt                   52442 non-null  float64\n",
      " 1   bedroomcnt                    52442 non-null  float64\n",
      " 2   calculatedfinishedsquarefeet  52360 non-null  float64\n",
      " 3   taxvaluedollarcnt             52441 non-null  float64\n",
      " 4   fips                          52442 non-null  float64\n",
      "dtypes: float64(5)\n",
      "memory usage: 2.0 MB\n"
     ]
    }
   ],
   "source": [
    "zillow.info()"
   ]
  },
  {
   "cell_type": "code",
   "execution_count": 5,
   "id": "37f46e5f",
   "metadata": {},
   "outputs": [
    {
     "data": {
      "text/html": [
       "<div>\n",
       "<style scoped>\n",
       "    .dataframe tbody tr th:only-of-type {\n",
       "        vertical-align: middle;\n",
       "    }\n",
       "\n",
       "    .dataframe tbody tr th {\n",
       "        vertical-align: top;\n",
       "    }\n",
       "\n",
       "    .dataframe thead th {\n",
       "        text-align: right;\n",
       "    }\n",
       "</style>\n",
       "<table border=\"1\" class=\"dataframe\">\n",
       "  <thead>\n",
       "    <tr style=\"text-align: right;\">\n",
       "      <th></th>\n",
       "      <th>bathroomcnt</th>\n",
       "      <th>bedroomcnt</th>\n",
       "      <th>calculatedfinishedsquarefeet</th>\n",
       "      <th>taxvaluedollarcnt</th>\n",
       "      <th>fips</th>\n",
       "    </tr>\n",
       "  </thead>\n",
       "  <tbody>\n",
       "    <tr>\n",
       "      <th>count</th>\n",
       "      <td>52442.000000</td>\n",
       "      <td>52442.000000</td>\n",
       "      <td>52360.000000</td>\n",
       "      <td>5.244100e+04</td>\n",
       "      <td>52442.000000</td>\n",
       "    </tr>\n",
       "    <tr>\n",
       "      <th>mean</th>\n",
       "      <td>2.299397</td>\n",
       "      <td>3.300675</td>\n",
       "      <td>1922.874083</td>\n",
       "      <td>5.296830e+05</td>\n",
       "      <td>6049.131917</td>\n",
       "    </tr>\n",
       "    <tr>\n",
       "      <th>std</th>\n",
       "      <td>1.022764</td>\n",
       "      <td>0.949086</td>\n",
       "      <td>1004.363491</td>\n",
       "      <td>7.518883e+05</td>\n",
       "      <td>21.028933</td>\n",
       "    </tr>\n",
       "    <tr>\n",
       "      <th>min</th>\n",
       "      <td>0.000000</td>\n",
       "      <td>0.000000</td>\n",
       "      <td>128.000000</td>\n",
       "      <td>1.000000e+03</td>\n",
       "      <td>6037.000000</td>\n",
       "    </tr>\n",
       "    <tr>\n",
       "      <th>25%</th>\n",
       "      <td>2.000000</td>\n",
       "      <td>3.000000</td>\n",
       "      <td>1268.000000</td>\n",
       "      <td>1.937500e+05</td>\n",
       "      <td>6037.000000</td>\n",
       "    </tr>\n",
       "    <tr>\n",
       "      <th>50%</th>\n",
       "      <td>2.000000</td>\n",
       "      <td>3.000000</td>\n",
       "      <td>1659.000000</td>\n",
       "      <td>3.736120e+05</td>\n",
       "      <td>6037.000000</td>\n",
       "    </tr>\n",
       "    <tr>\n",
       "      <th>75%</th>\n",
       "      <td>3.000000</td>\n",
       "      <td>4.000000</td>\n",
       "      <td>2306.000000</td>\n",
       "      <td>6.193010e+05</td>\n",
       "      <td>6059.000000</td>\n",
       "    </tr>\n",
       "    <tr>\n",
       "      <th>max</th>\n",
       "      <td>18.000000</td>\n",
       "      <td>14.000000</td>\n",
       "      <td>21929.000000</td>\n",
       "      <td>4.906124e+07</td>\n",
       "      <td>6111.000000</td>\n",
       "    </tr>\n",
       "  </tbody>\n",
       "</table>\n",
       "</div>"
      ],
      "text/plain": [
       "        bathroomcnt    bedroomcnt  calculatedfinishedsquarefeet  \\\n",
       "count  52442.000000  52442.000000                  52360.000000   \n",
       "mean       2.299397      3.300675                   1922.874083   \n",
       "std        1.022764      0.949086                   1004.363491   \n",
       "min        0.000000      0.000000                    128.000000   \n",
       "25%        2.000000      3.000000                   1268.000000   \n",
       "50%        2.000000      3.000000                   1659.000000   \n",
       "75%        3.000000      4.000000                   2306.000000   \n",
       "max       18.000000     14.000000                  21929.000000   \n",
       "\n",
       "       taxvaluedollarcnt          fips  \n",
       "count       5.244100e+04  52442.000000  \n",
       "mean        5.296830e+05   6049.131917  \n",
       "std         7.518883e+05     21.028933  \n",
       "min         1.000000e+03   6037.000000  \n",
       "25%         1.937500e+05   6037.000000  \n",
       "50%         3.736120e+05   6037.000000  \n",
       "75%         6.193010e+05   6059.000000  \n",
       "max         4.906124e+07   6111.000000  "
      ]
     },
     "execution_count": 5,
     "metadata": {},
     "output_type": "execute_result"
    }
   ],
   "source": [
    "zillow.describe()"
   ]
  },
  {
   "cell_type": "code",
   "execution_count": 6,
   "id": "b7ab69d4",
   "metadata": {},
   "outputs": [],
   "source": [
    "def get_outliers(df):\n",
    "    for col in df.columns.tolist():\n",
    "        sns.boxplot(x=col, data=df)\n",
    "        plt.show()"
   ]
  },
  {
   "cell_type": "code",
   "execution_count": 7,
   "id": "52ef6bf8",
   "metadata": {
    "scrolled": false
   },
   "outputs": [
    {
     "data": {
      "image/png": "[encoded data removed]",
      "text/plain": [
       "<Figure size 640x480 with 1 Axes>"
      ]
     },
     "metadata": {},
     "output_type": "display_data"
    },
    {
     "data": {
      "image/png": "[encoded data removed]",
      "text/plain": [
       "<Figure size 640x480 with 1 Axes>"
      ]
     },
     "metadata": {},
     "output_type": "display_data"
    },
    {
     "data": {
      "image/png": "[encoded data removed]",
      "text/plain": [
       "<Figure size 640x480 with 1 Axes>"
      ]
     },
     "metadata": {},
     "output_type": "display_data"
    },
    {
     "data": {
      "image/png": "[encoded data removed]",
      "text/plain": [
       "<Figure size 640x480 with 1 Axes>"
      ]
     },
     "metadata": {},
     "output_type": "display_data"
    },
    {
     "data": {
      "image/png": "[encoded data removed]",
      "text/plain": [
       "<Figure size 640x480 with 1 Axes>"
      ]
     },
     "metadata": {},
     "output_type": "display_data"
    }
   ],
   "source": [
    "get_outliers(zillow)"
   ]
  },
  {
   "cell_type": "code",
   "execution_count": 8,
   "id": "7f8414a2",
   "metadata": {},
   "outputs": [],
   "source": [
    "clean_zillow = wrangle.get_clean_zillow(zillow)"
   ]
  },
  {
   "cell_type": "code",
   "execution_count": 9,
   "id": "34d78247",
   "metadata": {},
   "outputs": [
    {
     "data": {
      "text/html": [
       "<div>\n",
       "<style scoped>\n",
       "    .dataframe tbody tr th:only-of-type {\n",
       "        vertical-align: middle;\n",
       "    }\n",
       "\n",
       "    .dataframe tbody tr th {\n",
       "        vertical-align: top;\n",
       "    }\n",
       "\n",
       "    .dataframe thead th {\n",
       "        text-align: right;\n",
       "    }\n",
       "</style>\n",
       "<table border=\"1\" class=\"dataframe\">\n",
       "  <thead>\n",
       "    <tr style=\"text-align: right;\">\n",
       "      <th></th>\n",
       "      <th>bathroom</th>\n",
       "      <th>bedroom</th>\n",
       "      <th>sqft</th>\n",
       "      <th>tax_amount</th>\n",
       "      <th>county</th>\n",
       "      <th>Los Angeles</th>\n",
       "      <th>Orange</th>\n",
       "      <th>Ventura</th>\n",
       "    </tr>\n",
       "  </thead>\n",
       "  <tbody>\n",
       "    <tr>\n",
       "      <th>287</th>\n",
       "      <td>1.0</td>\n",
       "      <td>1.0</td>\n",
       "      <td>784.0</td>\n",
       "      <td>188067.0</td>\n",
       "      <td>Los Angeles</td>\n",
       "      <td>1</td>\n",
       "      <td>0</td>\n",
       "      <td>0</td>\n",
       "    </tr>\n",
       "    <tr>\n",
       "      <th>600</th>\n",
       "      <td>1.0</td>\n",
       "      <td>1.0</td>\n",
       "      <td>745.0</td>\n",
       "      <td>192000.0</td>\n",
       "      <td>Los Angeles</td>\n",
       "      <td>1</td>\n",
       "      <td>0</td>\n",
       "      <td>0</td>\n",
       "    </tr>\n",
       "    <tr>\n",
       "      <th>695</th>\n",
       "      <td>1.0</td>\n",
       "      <td>1.0</td>\n",
       "      <td>1088.0</td>\n",
       "      <td>217558.0</td>\n",
       "      <td>Los Angeles</td>\n",
       "      <td>1</td>\n",
       "      <td>0</td>\n",
       "      <td>0</td>\n",
       "    </tr>\n",
       "    <tr>\n",
       "      <th>706</th>\n",
       "      <td>1.0</td>\n",
       "      <td>1.0</td>\n",
       "      <td>830.0</td>\n",
       "      <td>390085.0</td>\n",
       "      <td>Los Angeles</td>\n",
       "      <td>1</td>\n",
       "      <td>0</td>\n",
       "      <td>0</td>\n",
       "    </tr>\n",
       "    <tr>\n",
       "      <th>760</th>\n",
       "      <td>1.0</td>\n",
       "      <td>1.0</td>\n",
       "      <td>976.0</td>\n",
       "      <td>368553.0</td>\n",
       "      <td>Los Angeles</td>\n",
       "      <td>1</td>\n",
       "      <td>0</td>\n",
       "      <td>0</td>\n",
       "    </tr>\n",
       "  </tbody>\n",
       "</table>\n",
       "</div>"
      ],
      "text/plain": [
       "     bathroom  bedroom    sqft  tax_amount       county  Los Angeles  Orange  \\\n",
       "287       1.0      1.0   784.0    188067.0  Los Angeles            1       0   \n",
       "600       1.0      1.0   745.0    192000.0  Los Angeles            1       0   \n",
       "695       1.0      1.0  1088.0    217558.0  Los Angeles            1       0   \n",
       "706       1.0      1.0   830.0    390085.0  Los Angeles            1       0   \n",
       "760       1.0      1.0   976.0    368553.0  Los Angeles            1       0   \n",
       "\n",
       "     Ventura  \n",
       "287        0  \n",
       "600        0  \n",
       "695        0  \n",
       "706        0  \n",
       "760        0  "
      ]
     },
     "execution_count": 9,
     "metadata": {},
     "output_type": "execute_result"
    }
   ],
   "source": [
    "clean_zillow.head()"
   ]
  },
  {
   "cell_type": "code",
   "execution_count": 10,
   "id": "9fc7f28c",
   "metadata": {},
   "outputs": [],
   "source": [
    "def create_dummies(cols,df):\n",
    "    \n",
    "    dummies = pd.get_dummies(df[cols])\n",
    "    df = pd.concat([df, dummies],axis=1)\n",
    "    return df"
   ]
  },
  {
   "cell_type": "code",
   "execution_count": 11,
   "id": "023c39d3",
   "metadata": {},
   "outputs": [],
   "source": [
    "clean_zillow = create_dummies('county',clean_zillow)"
   ]
  },
  {
   "cell_type": "code",
   "execution_count": 12,
   "id": "fbfffd10",
   "metadata": {},
   "outputs": [
    {
     "data": {
      "text/html": [
       "<div>\n",
       "<style scoped>\n",
       "    .dataframe tbody tr th:only-of-type {\n",
       "        vertical-align: middle;\n",
       "    }\n",
       "\n",
       "    .dataframe tbody tr th {\n",
       "        vertical-align: top;\n",
       "    }\n",
       "\n",
       "    .dataframe thead th {\n",
       "        text-align: right;\n",
       "    }\n",
       "</style>\n",
       "<table border=\"1\" class=\"dataframe\">\n",
       "  <thead>\n",
       "    <tr style=\"text-align: right;\">\n",
       "      <th></th>\n",
       "      <th>bathroom</th>\n",
       "      <th>bedroom</th>\n",
       "      <th>sqft</th>\n",
       "      <th>tax_amount</th>\n",
       "      <th>county</th>\n",
       "      <th>Los Angeles</th>\n",
       "      <th>Orange</th>\n",
       "      <th>Ventura</th>\n",
       "      <th>Los Angeles</th>\n",
       "      <th>Orange</th>\n",
       "      <th>Ventura</th>\n",
       "    </tr>\n",
       "  </thead>\n",
       "  <tbody>\n",
       "    <tr>\n",
       "      <th>287</th>\n",
       "      <td>1.0</td>\n",
       "      <td>1.0</td>\n",
       "      <td>784.0</td>\n",
       "      <td>188067.0</td>\n",
       "      <td>Los Angeles</td>\n",
       "      <td>1</td>\n",
       "      <td>0</td>\n",
       "      <td>0</td>\n",
       "      <td>1</td>\n",
       "      <td>0</td>\n",
       "      <td>0</td>\n",
       "    </tr>\n",
       "    <tr>\n",
       "      <th>600</th>\n",
       "      <td>1.0</td>\n",
       "      <td>1.0</td>\n",
       "      <td>745.0</td>\n",
       "      <td>192000.0</td>\n",
       "      <td>Los Angeles</td>\n",
       "      <td>1</td>\n",
       "      <td>0</td>\n",
       "      <td>0</td>\n",
       "      <td>1</td>\n",
       "      <td>0</td>\n",
       "      <td>0</td>\n",
       "    </tr>\n",
       "    <tr>\n",
       "      <th>695</th>\n",
       "      <td>1.0</td>\n",
       "      <td>1.0</td>\n",
       "      <td>1088.0</td>\n",
       "      <td>217558.0</td>\n",
       "      <td>Los Angeles</td>\n",
       "      <td>1</td>\n",
       "      <td>0</td>\n",
       "      <td>0</td>\n",
       "      <td>1</td>\n",
       "      <td>0</td>\n",
       "      <td>0</td>\n",
       "    </tr>\n",
       "    <tr>\n",
       "      <th>706</th>\n",
       "      <td>1.0</td>\n",
       "      <td>1.0</td>\n",
       "      <td>830.0</td>\n",
       "      <td>390085.0</td>\n",
       "      <td>Los Angeles</td>\n",
       "      <td>1</td>\n",
       "      <td>0</td>\n",
       "      <td>0</td>\n",
       "      <td>1</td>\n",
       "      <td>0</td>\n",
       "      <td>0</td>\n",
       "    </tr>\n",
       "    <tr>\n",
       "      <th>760</th>\n",
       "      <td>1.0</td>\n",
       "      <td>1.0</td>\n",
       "      <td>976.0</td>\n",
       "      <td>368553.0</td>\n",
       "      <td>Los Angeles</td>\n",
       "      <td>1</td>\n",
       "      <td>0</td>\n",
       "      <td>0</td>\n",
       "      <td>1</td>\n",
       "      <td>0</td>\n",
       "      <td>0</td>\n",
       "    </tr>\n",
       "  </tbody>\n",
       "</table>\n",
       "</div>"
      ],
      "text/plain": [
       "     bathroom  bedroom    sqft  tax_amount       county  Los Angeles  Orange  \\\n",
       "287       1.0      1.0   784.0    188067.0  Los Angeles            1       0   \n",
       "600       1.0      1.0   745.0    192000.0  Los Angeles            1       0   \n",
       "695       1.0      1.0  1088.0    217558.0  Los Angeles            1       0   \n",
       "706       1.0      1.0   830.0    390085.0  Los Angeles            1       0   \n",
       "760       1.0      1.0   976.0    368553.0  Los Angeles            1       0   \n",
       "\n",
       "     Ventura  Los Angeles  Orange  Ventura  \n",
       "287        0            1       0        0  \n",
       "600        0            1       0        0  \n",
       "695        0            1       0        0  \n",
       "706        0            1       0        0  \n",
       "760        0            1       0        0  "
      ]
     },
     "execution_count": 12,
     "metadata": {},
     "output_type": "execute_result"
    }
   ],
   "source": [
    "clean_zillow.head()"
   ]
  },
  {
   "cell_type": "code",
   "execution_count": 13,
   "id": "db1378da",
   "metadata": {},
   "outputs": [
    {
     "data": {
      "text/plain": [
       "((26227, 11), (11241, 11), (9367, 11))"
      ]
     },
     "execution_count": 13,
     "metadata": {},
     "output_type": "execute_result"
    }
   ],
   "source": [
    "train, validate, test = wrangle.train_val_test(clean_zillow, seed=42)\n",
    "train.shape, validate.shape, test.shape"
   ]
  },
  {
   "cell_type": "code",
   "execution_count": 14,
   "id": "bcbad169",
   "metadata": {},
   "outputs": [
    {
     "data": {
      "text/plain": [
       "Los Angeles    16937\n",
       "Orange          7079\n",
       "Ventura         2211\n",
       "Name: county, dtype: int64"
      ]
     },
     "execution_count": 14,
     "metadata": {},
     "output_type": "execute_result"
    }
   ],
   "source": [
    "train.county.value_counts()"
   ]
  },
  {
   "cell_type": "code",
   "execution_count": 15,
   "id": "451ef744",
   "metadata": {},
   "outputs": [],
   "source": [
    "# train.bathroom.value_counts()"
   ]
  },
  {
   "cell_type": "code",
   "execution_count": 16,
   "id": "859bcd76",
   "metadata": {},
   "outputs": [],
   "source": [
    "# train.bedroom.value_counts()"
   ]
  },
  {
   "cell_type": "code",
   "execution_count": 17,
   "id": "1b0af5fa",
   "metadata": {},
   "outputs": [
    {
     "data": {
      "text/html": [
       "<div>\n",
       "<style scoped>\n",
       "    .dataframe tbody tr th:only-of-type {\n",
       "        vertical-align: middle;\n",
       "    }\n",
       "\n",
       "    .dataframe tbody tr th {\n",
       "        vertical-align: top;\n",
       "    }\n",
       "\n",
       "    .dataframe thead th {\n",
       "        text-align: right;\n",
       "    }\n",
       "</style>\n",
       "<table border=\"1\" class=\"dataframe\">\n",
       "  <thead>\n",
       "    <tr style=\"text-align: right;\">\n",
       "      <th></th>\n",
       "      <th>bathroom</th>\n",
       "      <th>bedroom</th>\n",
       "      <th>sqft</th>\n",
       "      <th>tax_amount</th>\n",
       "      <th>Los Angeles</th>\n",
       "      <th>Orange</th>\n",
       "      <th>Ventura</th>\n",
       "      <th>Los Angeles</th>\n",
       "      <th>Orange</th>\n",
       "      <th>Ventura</th>\n",
       "    </tr>\n",
       "  </thead>\n",
       "  <tbody>\n",
       "    <tr>\n",
       "      <th>bathroom</th>\n",
       "      <td>1.000000</td>\n",
       "      <td>0.564971</td>\n",
       "      <td>0.759719</td>\n",
       "      <td>0.339350</td>\n",
       "      <td>-0.096032</td>\n",
       "      <td>0.076048</td>\n",
       "      <td>0.043805</td>\n",
       "      <td>-0.096032</td>\n",
       "      <td>0.076048</td>\n",
       "      <td>0.043805</td>\n",
       "    </tr>\n",
       "    <tr>\n",
       "      <th>bedroom</th>\n",
       "      <td>0.564971</td>\n",
       "      <td>1.000000</td>\n",
       "      <td>0.615516</td>\n",
       "      <td>0.194864</td>\n",
       "      <td>-0.170729</td>\n",
       "      <td>0.118118</td>\n",
       "      <td>0.105173</td>\n",
       "      <td>-0.170729</td>\n",
       "      <td>0.118118</td>\n",
       "      <td>0.105173</td>\n",
       "    </tr>\n",
       "    <tr>\n",
       "      <th>sqft</th>\n",
       "      <td>0.759719</td>\n",
       "      <td>0.615516</td>\n",
       "      <td>1.000000</td>\n",
       "      <td>0.422978</td>\n",
       "      <td>-0.210183</td>\n",
       "      <td>0.166906</td>\n",
       "      <td>0.095137</td>\n",
       "      <td>-0.210183</td>\n",
       "      <td>0.166906</td>\n",
       "      <td>0.095137</td>\n",
       "    </tr>\n",
       "    <tr>\n",
       "      <th>tax_amount</th>\n",
       "      <td>0.339350</td>\n",
       "      <td>0.194864</td>\n",
       "      <td>0.422978</td>\n",
       "      <td>1.000000</td>\n",
       "      <td>-0.197233</td>\n",
       "      <td>0.168454</td>\n",
       "      <td>0.070373</td>\n",
       "      <td>-0.197233</td>\n",
       "      <td>0.168454</td>\n",
       "      <td>0.070373</td>\n",
       "    </tr>\n",
       "    <tr>\n",
       "      <th>Los Angeles</th>\n",
       "      <td>-0.096032</td>\n",
       "      <td>-0.170729</td>\n",
       "      <td>-0.210183</td>\n",
       "      <td>-0.197233</td>\n",
       "      <td>1.000000</td>\n",
       "      <td>-0.820984</td>\n",
       "      <td>-0.409689</td>\n",
       "      <td>1.000000</td>\n",
       "      <td>-0.820984</td>\n",
       "      <td>-0.409689</td>\n",
       "    </tr>\n",
       "    <tr>\n",
       "      <th>Orange</th>\n",
       "      <td>0.076048</td>\n",
       "      <td>0.118118</td>\n",
       "      <td>0.166906</td>\n",
       "      <td>0.168454</td>\n",
       "      <td>-0.820984</td>\n",
       "      <td>1.000000</td>\n",
       "      <td>-0.184488</td>\n",
       "      <td>-0.820984</td>\n",
       "      <td>1.000000</td>\n",
       "      <td>-0.184488</td>\n",
       "    </tr>\n",
       "    <tr>\n",
       "      <th>Ventura</th>\n",
       "      <td>0.043805</td>\n",
       "      <td>0.105173</td>\n",
       "      <td>0.095137</td>\n",
       "      <td>0.070373</td>\n",
       "      <td>-0.409689</td>\n",
       "      <td>-0.184488</td>\n",
       "      <td>1.000000</td>\n",
       "      <td>-0.409689</td>\n",
       "      <td>-0.184488</td>\n",
       "      <td>1.000000</td>\n",
       "    </tr>\n",
       "    <tr>\n",
       "      <th>Los Angeles</th>\n",
       "      <td>-0.096032</td>\n",
       "      <td>-0.170729</td>\n",
       "      <td>-0.210183</td>\n",
       "      <td>-0.197233</td>\n",
       "      <td>1.000000</td>\n",
       "      <td>-0.820984</td>\n",
       "      <td>-0.409689</td>\n",
       "      <td>1.000000</td>\n",
       "      <td>-0.820984</td>\n",
       "      <td>-0.409689</td>\n",
       "    </tr>\n",
       "    <tr>\n",
       "      <th>Orange</th>\n",
       "      <td>0.076048</td>\n",
       "      <td>0.118118</td>\n",
       "      <td>0.166906</td>\n",
       "      <td>0.168454</td>\n",
       "      <td>-0.820984</td>\n",
       "      <td>1.000000</td>\n",
       "      <td>-0.184488</td>\n",
       "      <td>-0.820984</td>\n",
       "      <td>1.000000</td>\n",
       "      <td>-0.184488</td>\n",
       "    </tr>\n",
       "    <tr>\n",
       "      <th>Ventura</th>\n",
       "      <td>0.043805</td>\n",
       "      <td>0.105173</td>\n",
       "      <td>0.095137</td>\n",
       "      <td>0.070373</td>\n",
       "      <td>-0.409689</td>\n",
       "      <td>-0.184488</td>\n",
       "      <td>1.000000</td>\n",
       "      <td>-0.409689</td>\n",
       "      <td>-0.184488</td>\n",
       "      <td>1.000000</td>\n",
       "    </tr>\n",
       "  </tbody>\n",
       "</table>\n",
       "</div>"
      ],
      "text/plain": [
       "             bathroom   bedroom      sqft  tax_amount  Los Angeles    Orange  \\\n",
       "bathroom     1.000000  0.564971  0.759719    0.339350    -0.096032  0.076048   \n",
       "bedroom      0.564971  1.000000  0.615516    0.194864    -0.170729  0.118118   \n",
       "sqft         0.759719  0.615516  1.000000    0.422978    -0.210183  0.166906   \n",
       "tax_amount   0.339350  0.194864  0.422978    1.000000    -0.197233  0.168454   \n",
       "Los Angeles -0.096032 -0.170729 -0.210183   -0.197233     1.000000 -0.820984   \n",
       "Orange       0.076048  0.118118  0.166906    0.168454    -0.820984  1.000000   \n",
       "Ventura      0.043805  0.105173  0.095137    0.070373    -0.409689 -0.184488   \n",
       "Los Angeles -0.096032 -0.170729 -0.210183   -0.197233     1.000000 -0.820984   \n",
       "Orange       0.076048  0.118118  0.166906    0.168454    -0.820984  1.000000   \n",
       "Ventura      0.043805  0.105173  0.095137    0.070373    -0.409689 -0.184488   \n",
       "\n",
       "              Ventura  Los Angeles    Orange   Ventura  \n",
       "bathroom     0.043805    -0.096032  0.076048  0.043805  \n",
       "bedroom      0.105173    -0.170729  0.118118  0.105173  \n",
       "sqft         0.095137    -0.210183  0.166906  0.095137  \n",
       "tax_amount   0.070373    -0.197233  0.168454  0.070373  \n",
       "Los Angeles -0.409689     1.000000 -0.820984 -0.409689  \n",
       "Orange      -0.184488    -0.820984  1.000000 -0.184488  \n",
       "Ventura      1.000000    -0.409689 -0.184488  1.000000  \n",
       "Los Angeles -0.409689     1.000000 -0.820984 -0.409689  \n",
       "Orange      -0.184488    -0.820984  1.000000 -0.184488  \n",
       "Ventura      1.000000    -0.409689 -0.184488  1.000000  "
      ]
     },
     "execution_count": 17,
     "metadata": {},
     "output_type": "execute_result"
    }
   ],
   "source": [
    "# create the corelation matrix\n",
    "train_zillow_corr = train.corr(method='spearman')\n",
    "train_zillow_corr"
   ]
  },
  {
   "cell_type": "code",
   "execution_count": 18,
   "id": "0e0789ed",
   "metadata": {},
   "outputs": [],
   "source": [
    "def get_corelation_map(df):\n",
    "    corr = df.corr(method='spearman')\n",
    "    sns.heatmap(corr, cmap='Purples', annot=True, mask= np.triu(corr))\n",
    "    \n"
   ]
  },
  {
   "cell_type": "code",
   "execution_count": 19,
   "id": "c6d79f3f",
   "metadata": {},
   "outputs": [
    {
     "data": {
      "image/png": "[encoded data removed]",
      "text/plain": [
       "<Figure size 640x480 with 2 Axes>"
      ]
     },
     "metadata": {},
     "output_type": "display_data"
    }
   ],
   "source": [
    "get_corelation_map(train)"
   ]
  },
  {
   "cell_type": "code",
   "execution_count": 20,
   "id": "116abbc3",
   "metadata": {},
   "outputs": [],
   "source": [
    "# def get_histplot(col,df):\n",
    "#     sns.histplot(x=col, hue='county', data=df,element='step')"
   ]
  },
  {
   "cell_type": "code",
   "execution_count": 21,
   "id": "8c4312cf",
   "metadata": {},
   "outputs": [],
   "source": [
    "# def get_boxplot(col,df):\n",
    "#     sns.boxplot(x=col, data=df)"
   ]
  },
  {
   "cell_type": "code",
   "execution_count": 22,
   "id": "9774c215",
   "metadata": {},
   "outputs": [
    {
     "data": {
      "text/html": [
       "<div>\n",
       "<style scoped>\n",
       "    .dataframe tbody tr th:only-of-type {\n",
       "        vertical-align: middle;\n",
       "    }\n",
       "\n",
       "    .dataframe tbody tr th {\n",
       "        vertical-align: top;\n",
       "    }\n",
       "\n",
       "    .dataframe thead th {\n",
       "        text-align: right;\n",
       "    }\n",
       "</style>\n",
       "<table border=\"1\" class=\"dataframe\">\n",
       "  <thead>\n",
       "    <tr style=\"text-align: right;\">\n",
       "      <th></th>\n",
       "      <th>bathroom</th>\n",
       "      <th>bedroom</th>\n",
       "      <th>sqft</th>\n",
       "      <th>tax_amount</th>\n",
       "      <th>county</th>\n",
       "      <th>Los Angeles</th>\n",
       "      <th>Orange</th>\n",
       "      <th>Ventura</th>\n",
       "      <th>Los Angeles</th>\n",
       "      <th>Orange</th>\n",
       "      <th>Ventura</th>\n",
       "    </tr>\n",
       "  </thead>\n",
       "  <tbody>\n",
       "    <tr>\n",
       "      <th>24005</th>\n",
       "      <td>3.0</td>\n",
       "      <td>4.0</td>\n",
       "      <td>2815.0</td>\n",
       "      <td>349000.0</td>\n",
       "      <td>Los Angeles</td>\n",
       "      <td>1</td>\n",
       "      <td>0</td>\n",
       "      <td>0</td>\n",
       "      <td>1</td>\n",
       "      <td>0</td>\n",
       "      <td>0</td>\n",
       "    </tr>\n",
       "    <tr>\n",
       "      <th>10859</th>\n",
       "      <td>2.0</td>\n",
       "      <td>2.0</td>\n",
       "      <td>1973.0</td>\n",
       "      <td>793000.0</td>\n",
       "      <td>Los Angeles</td>\n",
       "      <td>1</td>\n",
       "      <td>0</td>\n",
       "      <td>0</td>\n",
       "      <td>1</td>\n",
       "      <td>0</td>\n",
       "      <td>0</td>\n",
       "    </tr>\n",
       "    <tr>\n",
       "      <th>40615</th>\n",
       "      <td>2.0</td>\n",
       "      <td>3.0</td>\n",
       "      <td>1517.0</td>\n",
       "      <td>127619.0</td>\n",
       "      <td>Los Angeles</td>\n",
       "      <td>1</td>\n",
       "      <td>0</td>\n",
       "      <td>0</td>\n",
       "      <td>1</td>\n",
       "      <td>0</td>\n",
       "      <td>0</td>\n",
       "    </tr>\n",
       "    <tr>\n",
       "      <th>44400</th>\n",
       "      <td>2.0</td>\n",
       "      <td>3.0</td>\n",
       "      <td>1316.0</td>\n",
       "      <td>488770.0</td>\n",
       "      <td>Los Angeles</td>\n",
       "      <td>1</td>\n",
       "      <td>0</td>\n",
       "      <td>0</td>\n",
       "      <td>1</td>\n",
       "      <td>0</td>\n",
       "      <td>0</td>\n",
       "    </tr>\n",
       "    <tr>\n",
       "      <th>47188</th>\n",
       "      <td>2.0</td>\n",
       "      <td>2.0</td>\n",
       "      <td>1416.0</td>\n",
       "      <td>305739.0</td>\n",
       "      <td>Orange</td>\n",
       "      <td>0</td>\n",
       "      <td>1</td>\n",
       "      <td>0</td>\n",
       "      <td>0</td>\n",
       "      <td>1</td>\n",
       "      <td>0</td>\n",
       "    </tr>\n",
       "  </tbody>\n",
       "</table>\n",
       "</div>"
      ],
      "text/plain": [
       "       bathroom  bedroom    sqft  tax_amount       county  Los Angeles  \\\n",
       "24005       3.0      4.0  2815.0    349000.0  Los Angeles            1   \n",
       "10859       2.0      2.0  1973.0    793000.0  Los Angeles            1   \n",
       "40615       2.0      3.0  1517.0    127619.0  Los Angeles            1   \n",
       "44400       2.0      3.0  1316.0    488770.0  Los Angeles            1   \n",
       "47188       2.0      2.0  1416.0    305739.0       Orange            0   \n",
       "\n",
       "       Orange  Ventura  Los Angeles  Orange  Ventura  \n",
       "24005       0        0            1       0        0  \n",
       "10859       0        0            1       0        0  \n",
       "40615       0        0            1       0        0  \n",
       "44400       0        0            1       0        0  \n",
       "47188       1        0            0       1        0  "
      ]
     },
     "execution_count": 22,
     "metadata": {},
     "output_type": "execute_result"
    }
   ],
   "source": [
    "train.head()"
   ]
  },
  {
   "cell_type": "code",
   "execution_count": 23,
   "id": "4a5b2312",
   "metadata": {},
   "outputs": [],
   "source": [
    "def get_barplot_county(df):\n",
    "    plt.figure(figsize=(10,6))\n",
    "    ax = sns.barplot(x='county', y='tax_amount', data=df)\n",
    "    avg_tax_amount = df.tax_amount.mean()\n",
    "    plt.axhline(avg_tax_amount, label=\"Avg_house_value = 4.22K\", color='yellow')\n",
    "    plt.legend()\n",
    "    # plt.xticks(ticks = [0, 6037.0, 6059.0, 6111.0], labels=['k','Los Angeles', 'Orange', 'Ventura'])\n",
    "    plt.yticks(ticks = [0,100000,200000,300000,400000,500000,600000], labels=['0', '100K ', '200K', '300K', '400K', '500K', '600K'])\n",
    "    plt.ylabel('Home  Value  ($)')\n",
    "    plt.title('House Value across counties')\n",
    "    ax.spines[['right', 'top']].set_visible(False)\n",
    "    plt.show()"
   ]
  },
  {
   "cell_type": "code",
   "execution_count": 24,
   "id": "8b25628a",
   "metadata": {},
   "outputs": [
    {
     "data": {
      "image/png": "[encoded data removed]",
      "text/plain": [
       "<Figure size 1000x600 with 1 Axes>"
      ]
     },
     "metadata": {},
     "output_type": "display_data"
    }
   ],
   "source": [
    "get_barplot_county(train)"
   ]
  },
  {
   "cell_type": "code",
   "execution_count": 25,
   "id": "afc89607",
   "metadata": {},
   "outputs": [],
   "source": [
    "def get_barplot_bathroom_bedroom(df):\n",
    "    plt.figure(figsize=(8,10))\n",
    "    plt.subplots_adjust(left=0.1,\n",
    "                    bottom=0.1,\n",
    "                    right=0.9,\n",
    "                    top=1,\n",
    "                    wspace=0.4,\n",
    "                    hspace=0.4)\n",
    "    plt.subplot(211)\n",
    "    ax = sns.barplot(x='tax_amount',y='bathroom', data=df, color='steelblue', orient='h' )\n",
    "    median = df.bathroom.median()\n",
    "    plt.annotate(f' Median bathroom: {median}',(200000,2))\n",
    "    plt.xticks(ticks = [0,100000,200000,300000,400000,500000, 600000,700000, 800000], labels=['0', '100K ', '200K', '300K', '400K', '500K', '600K','700K', '800K'])\n",
    "    plt.xlabel('Home  Value  ($)')\n",
    "    plt.ylabel('Number of bathroom')\n",
    "    plt.ylim(-1,5)\n",
    "    ax.spines[['right', 'top']].set_visible(False)\n",
    "    plt.title(\"Home value with number of bathroom\")\n",
    "    \n",
    "    plt.subplot(212)\n",
    "    ax = sns.barplot(x='tax_amount',y='bedroom', data=df, color='skyblue', orient='h' )\n",
    "    median = df.bedroom.median()\n",
    "    plt.annotate(f' Median bedroom: {median}',(100000,1))\n",
    "    plt.xticks(ticks = [0,100000,200000,300000,400000,500000, 600000,700000, 800000], labels=['0', '100K ', '200K', '300K', '400K', '500K', '600K','700K', '800K'])\n",
    "    plt.xlabel('Home  Value  ($)')\n",
    "    plt.ylabel('Number of bedroom')\n",
    "    plt.ylim(-1,5)\n",
    "    ax.spines[['right', 'top']].set_visible(False)\n",
    "    plt.title(\"Home value with number of bedroom\")\n",
    "    plt.show()"
   ]
  },
  {
   "cell_type": "code",
   "execution_count": 26,
   "id": "95eab1c1",
   "metadata": {},
   "outputs": [
    {
     "data": {
      "image/png": "[encoded data removed]",
      "text/plain": [
       "<Figure size 800x1000 with 2 Axes>"
      ]
     },
     "metadata": {},
     "output_type": "display_data"
    }
   ],
   "source": [
    "get_barplot_bathroom_bedroom(train)"
   ]
  },
  {
   "cell_type": "code",
   "execution_count": 27,
   "id": "d0c4d11b",
   "metadata": {},
   "outputs": [],
   "source": [
    "def get_barplot_one_bathroom_two_bedroom(df):\n",
    "    plt.figure(figsize=(15,10))\n",
    "    plt.subplot(121)\n",
    "    ax = sns.barplot(x='bathroom', y='tax_amount',data=df[df.bathroom==1])\n",
    "    plt.yticks(ticks = [0,50000,100000,150000,200000,250000,300000,350000], labels=['0', '50K','100K ', '150K','200K','250K' ,'300K','35K'])\n",
    "    plt.ylabel('Home  Value  ($)')\n",
    "    plt.xlabel('Number of Bathroom')\n",
    "    ax.spines[['right', 'top']].set_visible(False)\n",
    "    plt.title(\"Home value with number of bathroom\")\n",
    "    \n",
    "    plt.subplot(122)\n",
    "    ax = sns.barplot(x='bedroom', y='tax_amount', data=df[df.bedroom==2])\n",
    "#     sns.barplot(x='bedroom', y='tax_amount', data=df,)\n",
    "    plt.yticks(ticks = [0,50000,100000,150000,200000,250000,300000,350000], labels=['0', '50K','100K ', '150K','200K','250K' ,'300K','35K'])\n",
    "    plt.ylabel('Home  Value  ($)')\n",
    "    plt.xlabel('Number of Bedroom')\n",
    "    ax.spines[['right', 'top']].set_visible(False)\n",
    "    plt.title(\"Home value with number of bedroom\")\n",
    "    plt.show()"
   ]
  },
  {
   "cell_type": "code",
   "execution_count": 28,
   "id": "43855e36",
   "metadata": {},
   "outputs": [
    {
     "data": {
      "image/png": "[encoded data removed]",
      "text/plain": [
       "<Figure size 1500x1000 with 2 Axes>"
      ]
     },
     "metadata": {},
     "output_type": "display_data"
    }
   ],
   "source": [
    "get_barplot_one_bathroom_two_bedroom(train)"
   ]
  },
  {
   "cell_type": "code",
   "execution_count": 29,
   "id": "97256373",
   "metadata": {},
   "outputs": [],
   "source": [
    "def ind_t_test_one_bathroom_two_bedroom(train):\n",
    "    \n",
    "    '''takes in a list and a dataframe and runs independent t-test(1_tail,greater than) to compare mean between dataframe attributes'''\n",
    "    \n",
    "    # set alpha value to 0.05\n",
    "    alpha = 0.05\n",
    "       \n",
    "    house_with_one_bathroom = train[train.bathroom == 1].tax_amount\n",
    "    house_with_two_bedroom = train[train.bedroom == 2].tax_amount\n",
    "\n",
    "     # set null and alternative hypothesis\n",
    "    null_hypothesis = 'House with one bathroom has less than or equal value to house with two bedroom' \n",
    "    alternative_hypothesis = 'House with one bathroom has greater value than house with two bedroom'\n",
    "    \n",
    "    # print Null Hypothesis followed by a new line\n",
    "    print(f'Null Hypothesis: {null_hypothesis}\\n')\n",
    "\n",
    "    # print Alternative Hypothesis followed by a new line\n",
    "    print(f'Alternative Hypothesis: {alternative_hypothesis}\\n')\n",
    "\n",
    "    # verify assumptions:\n",
    "        # - independent samples\n",
    "        # - more than 30 observation\n",
    "        # -equal Variances\n",
    "\n",
    "    if house_with_one_bathroom.var() != house_with_two_bedroom .var(): \n",
    "\n",
    "        # run independent t-test without equl variances\n",
    "        t, p = stats.ttest_ind(house_with_one_bathroom, house_with_two_bedroom, equal_var = False)\n",
    "\n",
    "        # print t-statistic value\n",
    "        print(f't: {t}')\n",
    "\n",
    "        # print p-value followed by a new line\n",
    "        print(f'p: {p}\\n')\n",
    "\n",
    "        if t > 0 and p/2 < alpha:\n",
    "            print('we reject null hypothesis\\n')\n",
    "            print(alternative_hypothesis)\n",
    "        else:\n",
    "            print('We fail to reject null hypothesis\\n')\n",
    "            print(f'It appears that {null_hypothesis}')\n",
    "    else: \n",
    "        # run independent t-test with equal variances\n",
    "        t, p = stats.ttest_ind(house_with_one_bathroom, house_with_two_bedroom)\n",
    "\n",
    "        # print t-statistic value\n",
    "        print(f't: {t}')\n",
    "\n",
    "        # print p-value followed by a new line\n",
    "        print(f'p: {p}\\n')\n",
    "\n",
    "        if t > 0 and p/2 < alpha:\n",
    "            print('we reject Null Hypothesis\\n')\n",
    "            print(alternative_hypothesis)\n",
    "        else:\n",
    "            print('We fail to reject Null Hypothesis\\n')\n",
    "            print(f'It appears that {null_hypothesis}')\n",
    "    print('--------------------------------------------------------------------------------------------\\n')\n"
   ]
  },
  {
   "cell_type": "code",
   "execution_count": 30,
   "id": "8d668919",
   "metadata": {},
   "outputs": [
    {
     "name": "stdout",
     "output_type": "stream",
     "text": [
      "Null Hypothesis: House with one bathroom has less than or equal value to house with two bedroom\n",
      "\n",
      "Alternative Hypothesis: House with one bathroom has greater value than house with two bedroom\n",
      "\n",
      "t: -10.913710255250956\n",
      "p: 1.523217710301919e-27\n",
      "\n",
      "We fail to reject null hypothesis\n",
      "\n",
      "It appears that House with one bathroom has less than or equal value to house with two bedroom\n",
      "--------------------------------------------------------------------------------------------\n",
      "\n"
     ]
    }
   ],
   "source": [
    "ind_t_test_one_bathroom_two_bedroom(train)"
   ]
  },
  {
   "cell_type": "code",
   "execution_count": 31,
   "id": "a6baa4ec",
   "metadata": {},
   "outputs": [],
   "source": [
    "def ind_t_test_greater_bathroom(train):\n",
    "    \n",
    "    '''takes in a list and a dataframe and runs independent t-test(1_tail,greater than) to compare mean between dataframe attributes'''\n",
    "    \n",
    "    # set alpha value to 0.05\n",
    "    alpha = 0.05\n",
    "       \n",
    "    house_above_median_bathroom = train[train.bathroom > train.bathroom.median()].tax_amount\n",
    "    house_below_median_bathroom = train[train.bathroom <train.bathroom.median()].tax_amount\n",
    "\n",
    "     # set null and alternative hypothesis\n",
    "    null_hypothesis = 'House with above median bathroom have less than or equl value to house with below median bathroom' \n",
    "    alternative_hypothesis = 'House with above median bathroom have greater value than house with below median bathroom'\n",
    "    \n",
    "    # print Null Hypothesis followed by a new line\n",
    "    print(f'Null Hypothesis: {null_hypothesis}\\n')\n",
    "\n",
    "    # print Alternative Hypothesis followed by a new line\n",
    "    print(f'Alternative Hypothesis: {alternative_hypothesis}\\n')\n",
    "\n",
    "    # verify assumptions:\n",
    "        # - independent samples\n",
    "        # - more than 30 observation\n",
    "        # -equal Variances\n",
    "\n",
    "    if house_above_median_bathroom .var() != house_below_median_bathroom .var(): \n",
    "\n",
    "        # run independent t-test without equl variances\n",
    "        t, p = stats.ttest_ind(house_above_median_bathroom, house_below_median_bathroom, equal_var = False)\n",
    "\n",
    "        # print t-statistic value\n",
    "        print(f't: {t}')\n",
    "\n",
    "        # print p-value followed by a new line\n",
    "        print(f'p: {p}\\n')\n",
    "\n",
    "        if t > 0 and p/2 < alpha:\n",
    "            print('we reject null hypothesis\\n')\n",
    "            print(alternative_hypothesis)\n",
    "        else:\n",
    "            print('We fail to reject null hypothesis\\n')\n",
    "            print(f'It appears that {null_hypothesis}')\n",
    "    else: \n",
    "        # run independent t-test with equal variances\n",
    "        t, p = stats.ttest_ind(house_above_median_bathroom, house_below_median_bathroom)\n",
    "\n",
    "        # print t-statistic value\n",
    "        print(f't: {t}')\n",
    "\n",
    "        # print p-value followed by a new line\n",
    "        print(f'p: {p}\\n')\n",
    "\n",
    "        if t > 0 and p/2 < alpha:\n",
    "            print('we reject Null Hypothesis\\n')\n",
    "            print(alternative_hypothesis)\n",
    "        else:\n",
    "            print('We fail to reject Null Hypothesis\\n')\n",
    "            print(f'It appears that {null_hypothesis}')\n",
    "    print('--------------------------------------------------------------------------------------------\\n')\n"
   ]
  },
  {
   "cell_type": "code",
   "execution_count": 32,
   "id": "0cb2fd28",
   "metadata": {},
   "outputs": [],
   "source": [
    "def ind_t_test_greater_bedroom(train):\n",
    "    \n",
    "    '''takes in a list and a dataframe and runs independent t-test(1_tail,greater than) to compare mean between dataframe attributes'''\n",
    "    \n",
    "    # set alpha value to 0.05\n",
    "    alpha = 0.05\n",
    "       \n",
    "    house_above_median_bedroom = train[train.bedroom > train.bedroom.median()].tax_amount\n",
    "    house_below_median_bedroom = train[train.bedroom <train.bedroom.median()].tax_amount\n",
    "\n",
    "     # set null and alternative hypothesis\n",
    "    null_hypothesis = 'House with above median bedroom have less than or equl value to house with below median bedroom' \n",
    "    alternative_hypothesis = 'House with above median bedroom have greater value than house with below median bedroom'\n",
    "    \n",
    "    # print Null Hypothesis followed by a new line\n",
    "    print(f'Null Hypothesis: {null_hypothesis}\\n')\n",
    "\n",
    "    # print Alternative Hypothesis followed by a new line\n",
    "    print(f'Alternative Hypothesis: {alternative_hypothesis}\\n')\n",
    "\n",
    "    # verify assumptions:\n",
    "        # - independent samples\n",
    "        # - more than 30 observation\n",
    "        # -equal Variances\n",
    "\n",
    "    if house_above_median_bedroom .var() != house_below_median_bedroom .var(): \n",
    "\n",
    "        # run independent t-test without equl variances\n",
    "        t, p = stats.ttest_ind(house_above_median_bedroom, house_below_median_bedroom, equal_var = False)\n",
    "\n",
    "        # print t-statistic value\n",
    "        print(f't: {t}')\n",
    "\n",
    "        # print p-value followed by a new line\n",
    "        print(f'p: {p}\\n')\n",
    "\n",
    "        if t > 0 and p/2 < alpha:\n",
    "            print('we reject null hypothesis\\n')\n",
    "            print(alternative_hypothesis)\n",
    "        else:\n",
    "            print('We fail to reject null hypothesis\\n')\n",
    "            print(f'It appears that {null_hypothesis}')\n",
    "    else: \n",
    "        # run independent t-test with equal variances\n",
    "        t, p = stats.ttest_ind(house_above_median_bedroom, house_below_median_bedroom)\n",
    "\n",
    "        # print t-statistic value\n",
    "        print(f't: {t}')\n",
    "\n",
    "        # print p-value followed by a new line\n",
    "        print(f'p: {p}\\n')\n",
    "\n",
    "        if t > 0 and p/2 < alpha:\n",
    "            print('we reject Null Hypothesis\\n')\n",
    "            print(alternative_hypothesis)\n",
    "        else:\n",
    "            print('We fail to reject Null Hypothesis\\n')\n",
    "            print(f'It appears that {null_hypothesis}')\n",
    "    print('--------------------------------------------------------------------------------------------\\n')\n"
   ]
  },
  {
   "cell_type": "code",
   "execution_count": 33,
   "id": "b9a2654c",
   "metadata": {},
   "outputs": [],
   "source": [
    "def get_lmplot(df): \n",
    "    plt.figure(figsize=(10,6))\n",
    "    ax = sns.lmplot(x='sqft',y='tax_amount', data=df.sample(1000),line_kws={'color':'red'})\n",
    "    plt.xlabel('Area in sqft')\n",
    "    plt.ylabel('Home  Value  ($)')\n",
    "    plt.title(\"Relation of Area with Home Value\")\n",
    "    plt.ticklabel_format(style='plain')\n",
    "    plt.show()"
   ]
  },
  {
   "cell_type": "code",
   "execution_count": 34,
   "id": "6f5a1d10",
   "metadata": {},
   "outputs": [
    {
     "data": {
      "text/plain": [
       "<Figure size 1000x600 with 0 Axes>"
      ]
     },
     "metadata": {},
     "output_type": "display_data"
    },
    {
     "data": {
      "image/png": "[encoded data removed]",
      "text/plain": [
       "<Figure size 500x500 with 1 Axes>"
      ]
     },
     "metadata": {},
     "output_type": "display_data"
    }
   ],
   "source": [
    "get_lmplot(train)"
   ]
  },
  {
   "cell_type": "code",
   "execution_count": 35,
   "id": "ec576aa2",
   "metadata": {},
   "outputs": [],
   "source": [
    "def corelation_sqft_tax_amount( train):\n",
    "    '''takes in a list and a dataframe and runs chi-square test to compare relationship of churn \n",
    "    with a datframe attributes \n",
    "    '''\n",
    "    \n",
    "    # set alpha value to 0.05\n",
    "    alpha = 0.05\n",
    "   \n",
    "            \n",
    "    # set null and alternative hypothesis \n",
    "    null_hypothesis = 'There is no linear colrealtion between area and home value'\n",
    "    alternative_hypothesis = 'There is linear colrealtion between area and home value'\n",
    "\n",
    "    # run person's correlation test\n",
    "    r, p = stats.pearsonr(train.sqft, train.tax_amount)\n",
    "\n",
    "    # print Null Hypothesis followed by a new line\n",
    "    print(f'Null Hypothesis: {null_hypothesis}\\n')\n",
    "\n",
    "    # print Alternative Hypothesis followed by a new line\n",
    "    print(f'Alternative Hypothesis: {alternative_hypothesis}\\n')\n",
    "\n",
    "    # print the chi2 value\n",
    "    print(f'r = {r}') \n",
    "\n",
    "    # print the p-value followed by a new line\n",
    "    print(f'p     = {p}\\n')\n",
    "\n",
    "    if p < alpha:\n",
    "        print(f'We reject null hypothesis')\n",
    "        print(alternative_hypothesis)\n",
    "    else:\n",
    "        print(f'We fail to reject null hypothesis')\n",
    "        print(f'There appears to be no significant linear corelation between area and home value')\n",
    "    print('--------------------------------------------------------------------------------------------\\n')\n"
   ]
  },
  {
   "cell_type": "code",
   "execution_count": 36,
   "id": "fa710dd9",
   "metadata": {},
   "outputs": [
    {
     "name": "stdout",
     "output_type": "stream",
     "text": [
      "Null Hypothesis: There is no linear colrealtion between area and home value\n",
      "\n",
      "Alternative Hypothesis: There is linear colrealtion between area and home value\n",
      "\n",
      "r = 0.470969512846164\n",
      "p     = 0.0\n",
      "\n",
      "We reject null hypothesis\n",
      "There is linear colrealtion between area and home value\n",
      "--------------------------------------------------------------------------------------------\n",
      "\n"
     ]
    }
   ],
   "source": [
    "corelation_sqft_tax_amount( train)"
   ]
  },
  {
   "cell_type": "code",
   "execution_count": 37,
   "id": "03587bde",
   "metadata": {},
   "outputs": [],
   "source": [
    "train_scaled, validate_scaled, test_scaled= modelling.scale_data(train, validate, test, \n",
    "                                                       columns_to_scale=['bedroom', 'bathroom', 'sqft','Los Angeles','Orange', 'Ventura' ],\n",
    "                                                       return_scaler=False)"
   ]
  },
  {
   "cell_type": "code",
   "execution_count": 38,
   "id": "c73c85be",
   "metadata": {},
   "outputs": [
    {
     "data": {
      "text/html": [
       "<div>\n",
       "<style scoped>\n",
       "    .dataframe tbody tr th:only-of-type {\n",
       "        vertical-align: middle;\n",
       "    }\n",
       "\n",
       "    .dataframe tbody tr th {\n",
       "        vertical-align: top;\n",
       "    }\n",
       "\n",
       "    .dataframe thead th {\n",
       "        text-align: right;\n",
       "    }\n",
       "</style>\n",
       "<table border=\"1\" class=\"dataframe\">\n",
       "  <thead>\n",
       "    <tr style=\"text-align: right;\">\n",
       "      <th></th>\n",
       "      <th>bathroom</th>\n",
       "      <th>bedroom</th>\n",
       "      <th>sqft</th>\n",
       "      <th>tax_amount</th>\n",
       "      <th>county</th>\n",
       "      <th>Los Angeles</th>\n",
       "      <th>Orange</th>\n",
       "      <th>Ventura</th>\n",
       "      <th>Los Angeles</th>\n",
       "      <th>Orange</th>\n",
       "      <th>Ventura</th>\n",
       "    </tr>\n",
       "  </thead>\n",
       "  <tbody>\n",
       "    <tr>\n",
       "      <th>24005</th>\n",
       "      <td>0.666667</td>\n",
       "      <td>0.75</td>\n",
       "      <td>0.698418</td>\n",
       "      <td>349000.0</td>\n",
       "      <td>Los Angeles</td>\n",
       "      <td>1.0</td>\n",
       "      <td>1.0</td>\n",
       "      <td>0.0</td>\n",
       "      <td>1.0</td>\n",
       "      <td>1.0</td>\n",
       "      <td>0.0</td>\n",
       "    </tr>\n",
       "    <tr>\n",
       "      <th>10859</th>\n",
       "      <td>0.333333</td>\n",
       "      <td>0.25</td>\n",
       "      <td>0.420897</td>\n",
       "      <td>793000.0</td>\n",
       "      <td>Los Angeles</td>\n",
       "      <td>1.0</td>\n",
       "      <td>1.0</td>\n",
       "      <td>0.0</td>\n",
       "      <td>1.0</td>\n",
       "      <td>1.0</td>\n",
       "      <td>0.0</td>\n",
       "    </tr>\n",
       "    <tr>\n",
       "      <th>40615</th>\n",
       "      <td>0.333333</td>\n",
       "      <td>0.50</td>\n",
       "      <td>0.270600</td>\n",
       "      <td>127619.0</td>\n",
       "      <td>Los Angeles</td>\n",
       "      <td>1.0</td>\n",
       "      <td>1.0</td>\n",
       "      <td>0.0</td>\n",
       "      <td>1.0</td>\n",
       "      <td>1.0</td>\n",
       "      <td>0.0</td>\n",
       "    </tr>\n",
       "    <tr>\n",
       "      <th>44400</th>\n",
       "      <td>0.333333</td>\n",
       "      <td>0.50</td>\n",
       "      <td>0.204351</td>\n",
       "      <td>488770.0</td>\n",
       "      <td>Los Angeles</td>\n",
       "      <td>1.0</td>\n",
       "      <td>1.0</td>\n",
       "      <td>0.0</td>\n",
       "      <td>1.0</td>\n",
       "      <td>1.0</td>\n",
       "      <td>0.0</td>\n",
       "    </tr>\n",
       "    <tr>\n",
       "      <th>47188</th>\n",
       "      <td>0.333333</td>\n",
       "      <td>0.25</td>\n",
       "      <td>0.237310</td>\n",
       "      <td>305739.0</td>\n",
       "      <td>Orange</td>\n",
       "      <td>0.0</td>\n",
       "      <td>0.0</td>\n",
       "      <td>1.0</td>\n",
       "      <td>0.0</td>\n",
       "      <td>0.0</td>\n",
       "      <td>1.0</td>\n",
       "    </tr>\n",
       "  </tbody>\n",
       "</table>\n",
       "</div>"
      ],
      "text/plain": [
       "       bathroom  bedroom      sqft  tax_amount       county  Los Angeles  \\\n",
       "24005  0.666667     0.75  0.698418    349000.0  Los Angeles          1.0   \n",
       "10859  0.333333     0.25  0.420897    793000.0  Los Angeles          1.0   \n",
       "40615  0.333333     0.50  0.270600    127619.0  Los Angeles          1.0   \n",
       "44400  0.333333     0.50  0.204351    488770.0  Los Angeles          1.0   \n",
       "47188  0.333333     0.25  0.237310    305739.0       Orange          0.0   \n",
       "\n",
       "       Orange  Ventura  Los Angeles  Orange  Ventura  \n",
       "24005     1.0      0.0          1.0     1.0      0.0  \n",
       "10859     1.0      0.0          1.0     1.0      0.0  \n",
       "40615     1.0      0.0          1.0     1.0      0.0  \n",
       "44400     1.0      0.0          1.0     1.0      0.0  \n",
       "47188     0.0      1.0          0.0     0.0      1.0  "
      ]
     },
     "execution_count": 38,
     "metadata": {},
     "output_type": "execute_result"
    }
   ],
   "source": [
    "train_scaled.head()"
   ]
  },
  {
   "cell_type": "code",
   "execution_count": 39,
   "id": "b5429f64",
   "metadata": {},
   "outputs": [],
   "source": [
    "#create a function to isolate the target variable\n",
    "def X_y_split(train, validate, test, target):\n",
    "    '''\n",
    "    This function takes in a dataframe and a target variable\n",
    "    Then it returns the X_train, y_train, X_validate, y_validate, X_test, y_test\n",
    "    and a print statement with the shape of the new dataframes\n",
    "    '''  \n",
    "\n",
    "\n",
    "    X_train = train.drop(columns= ['county', 'tax_amount'])\n",
    "    y_train = train[[target]]\n",
    "\n",
    "    X_validate = validate.drop(columns= ['county', 'tax_amount'])\n",
    "    y_validate = validate[[target]]\n",
    "\n",
    "    X_test = test.drop(columns= ['county', 'tax_amount'])\n",
    "    y_test = test[[target]]\n",
    "        \n",
    " \n",
    "    \n",
    "    return X_train, y_train, X_validate, y_validate, X_test, y_test\n",
    "\n"
   ]
  },
  {
   "cell_type": "code",
   "execution_count": 40,
   "id": "984e8249",
   "metadata": {},
   "outputs": [],
   "source": [
    "X_train, y_train, X_validate, y_validate, X_test, y_test = X_y_split(train_scaled, validate_scaled, test_scaled, 'tax_amount')"
   ]
  },
  {
   "cell_type": "code",
   "execution_count": 41,
   "id": "fca228ad",
   "metadata": {},
   "outputs": [
    {
     "data": {
      "text/plain": [
       "(403154.98074503377, 349214.0)"
      ]
     },
     "execution_count": 41,
     "metadata": {},
     "output_type": "execute_result"
    }
   ],
   "source": [
    "target = 'tax_amount'\n",
    "# compute baseline\n",
    "baseline_mean = y_train[target].mean()\n",
    "baseline_median = y_train[target].median()\n",
    "    \n",
    "baseline_mean, baseline_median\n",
    "    \n",
    "    "
   ]
  },
  {
   "cell_type": "code",
   "execution_count": 42,
   "id": "bc29a3de",
   "metadata": {},
   "outputs": [],
   "source": [
    "# def get_baseline(train,validate, target):\n",
    "#     train['baseline_mean'] = train[target].mean()\n",
    "#     train['baseline_median'] = train[target].median()\n",
    "    \n",
    "#     validate['baseline_mean'] = train[target].mean()\n",
    "#     train['baseline_median'] = train[target].median()\n",
    "    \n",
    "#     print(['baseline_mean'], train['baseline_median'],  validate['baseline_mean'], train['baseline_median'])\n",
    "       "
   ]
  },
  {
   "cell_type": "code",
   "execution_count": 43,
   "id": "27a334cd",
   "metadata": {},
   "outputs": [],
   "source": [
    "# train['baseline_mean'] = train[target].mean()\n",
    "# train['baseline_mean']"
   ]
  },
  {
   "cell_type": "code",
   "execution_count": 44,
   "id": "eaf7e15e",
   "metadata": {},
   "outputs": [],
   "source": [
    "# y_train['baseline_mean'] = y_train[target].mean()\n",
    "# y_train['baseline_mean']"
   ]
  },
  {
   "cell_type": "code",
   "execution_count": 45,
   "id": "5f7a2396",
   "metadata": {},
   "outputs": [],
   "source": [
    "def get_rmse_mean(train,validate, target):\n",
    "    train['baseline_mean'] = train[target].mean()\n",
    "    validate['baseline_mean'] = train[target].mean()\n",
    "    train_RMSE_mean  = mean_squared_error(train[target], train['baseline_mean'], squared=False )\n",
    "    validae_RMSE_mean = mean_squared_error(validate[target], validate['baseline_mean'], squared=False )\n",
    "    print('RMSE using mean')\n",
    "    print(F'train_RMSE: {train_RMSE_mean}')\n",
    "    print(f'validate RMSE: {validae_RMSE_mean}')\n",
    "    return train_RMSE_mean, validae_RMSE_mean"
   ]
  },
  {
   "cell_type": "code",
   "execution_count": 46,
   "id": "30010111",
   "metadata": {},
   "outputs": [
    {
     "name": "stdout",
     "output_type": "stream",
     "text": [
      "RMSE using mean\n",
      "train_RMSE: 282783.9723515096\n",
      "validate RMSE: 276920.1915397434\n"
     ]
    },
    {
     "data": {
      "text/plain": [
       "(282783.9723515096, 276920.1915397434)"
      ]
     },
     "execution_count": 46,
     "metadata": {},
     "output_type": "execute_result"
    }
   ],
   "source": [
    "train_rmse_mean, validate_rmse_mean  = get_rmse_mean(train, validate,'tax_amount')\n",
    "train_rmse_mean, validate_rmse_mean"
   ]
  },
  {
   "cell_type": "code",
   "execution_count": 47,
   "id": "4eca1bf8",
   "metadata": {},
   "outputs": [],
   "source": [
    "def get_rmse_median(train,validate, target):\n",
    "    train['baseline_median'] = train[target].median()\n",
    "    validate['baseline_median'] = validate[target].median()\n",
    "    train_RMSE_median  = mean_squared_error(train[target], train['baseline_median'], squared=False )\n",
    "    validae_RMSE_median = mean_squared_error(validate[target], validate['baseline_median'], squared=False )\n",
    "    print('RMSE using median')\n",
    "    print(F'train_RMSE: {train_RMSE_median}')\n",
    "    print(f'validate RMSE: {validae_RMSE_median}')\n",
    "    return train_RMSE_median, validae_RMSE_median"
   ]
  },
  {
   "cell_type": "code",
   "execution_count": 48,
   "id": "3018d913",
   "metadata": {},
   "outputs": [
    {
     "name": "stdout",
     "output_type": "stream",
     "text": [
      "RMSE using median\n",
      "train_RMSE: 287882.6226479039\n",
      "validate RMSE: 281169.87292888097\n"
     ]
    },
    {
     "data": {
      "text/plain": [
       "(287882.6226479039, 281169.87292888097)"
      ]
     },
     "execution_count": 48,
     "metadata": {},
     "output_type": "execute_result"
    }
   ],
   "source": [
    "train_rmse_median, validate_rmse_median  = get_rmse_median(train, validate,'tax_amount')\n",
    "train_rmse_median, validate_rmse_median"
   ]
  },
  {
   "cell_type": "code",
   "execution_count": 49,
   "id": "527ab823",
   "metadata": {},
   "outputs": [],
   "source": [
    "\n",
    "def get_linear_regression(X_train,y_train,X_validate,y_validate, target):\n",
    "    # create the model object\n",
    "    lm = LinearRegression()  \n",
    "    # Fit the model\n",
    "    lm.fit(X_train, y_train[target])   \n",
    "    # Predict train\n",
    "    y_train['prediction_OLS'] = lm.predict(X_train)\n",
    "    # predict validate \n",
    "    y_validate['prediction_OLS'] = lm.predict(X_validate)  \n",
    "    # evaluate train RMSE\n",
    "    rmse_train = round (mean_squared_error(y_train[target], y_train['prediction_OLS'],squared=False ), 2)\n",
    "    # evaluate validate rmse\n",
    "    rmse_validate = round (mean_squared_error(y_validate[target], y_validate['prediction_OLS'],squared=False), 2)\n",
    "    \n",
    "    return rmse_train, rmse_validate\n"
   ]
  },
  {
   "cell_type": "code",
   "execution_count": 50,
   "id": "295c7d5d",
   "metadata": {},
   "outputs": [
    {
     "data": {
      "text/plain": [
       "(245856.22, 241331.46)"
      ]
     },
     "execution_count": 50,
     "metadata": {},
     "output_type": "execute_result"
    }
   ],
   "source": [
    "rmse_lm_train, rmse_lm_validate = get_linear_regression(X_train,y_train,X_validate,y_validate, 'tax_amount')\n",
    "rmse_lm_train, rmse_lm_validate"
   ]
  },
  {
   "cell_type": "code",
   "execution_count": 51,
   "id": "a6734229",
   "metadata": {},
   "outputs": [],
   "source": [
    "def get_lassoLars(X_train,y_train,X_validate,y_validate, target, alpha):\n",
    "    # create the model object\n",
    "    lars = LassoLars(alpha)  \n",
    "    # Fit the model\n",
    "    lars.fit(X_train, y_train[target])   \n",
    "    # Predict train\n",
    "    y_train['prediction_lassoLars'] = lars.predict(X_train)\n",
    "    # predict validate \n",
    "    y_validate['prediction_lassoLars'] = lars.predict(X_validate)  \n",
    "    # evaluate train RMSE\n",
    "    rmse_train = round (mean_squared_error(y_train[target], y_train['prediction_lassoLars'],squared=False ), 2)\n",
    "    # evaluate validate rmse\n",
    "    rmse_validate = round (mean_squared_error(y_validate[target], y_validate['prediction_lassoLars'],squared=False), 2)\n",
    "    \n",
    "    return rmse_train, rmse_validate\n",
    "    "
   ]
  },
  {
   "cell_type": "code",
   "execution_count": 52,
   "id": "69c77fd5",
   "metadata": {},
   "outputs": [
    {
     "data": {
      "text/html": [
       "<div>\n",
       "<style scoped>\n",
       "    .dataframe tbody tr th:only-of-type {\n",
       "        vertical-align: middle;\n",
       "    }\n",
       "\n",
       "    .dataframe tbody tr th {\n",
       "        vertical-align: top;\n",
       "    }\n",
       "\n",
       "    .dataframe thead th {\n",
       "        text-align: right;\n",
       "    }\n",
       "</style>\n",
       "<table border=\"1\" class=\"dataframe\">\n",
       "  <thead>\n",
       "    <tr style=\"text-align: right;\">\n",
       "      <th></th>\n",
       "      <th>alpha</th>\n",
       "      <th>rmse_train</th>\n",
       "      <th>rmse_validate</th>\n",
       "      <th>rmse_differnce</th>\n",
       "    </tr>\n",
       "  </thead>\n",
       "  <tbody>\n",
       "    <tr>\n",
       "      <th>0</th>\n",
       "      <td>0</td>\n",
       "      <td>251917.8</td>\n",
       "      <td>246549.84</td>\n",
       "      <td>5367.96</td>\n",
       "    </tr>\n",
       "    <tr>\n",
       "      <th>1</th>\n",
       "      <td>1</td>\n",
       "      <td>251917.8</td>\n",
       "      <td>246549.84</td>\n",
       "      <td>5367.96</td>\n",
       "    </tr>\n",
       "    <tr>\n",
       "      <th>2</th>\n",
       "      <td>2</td>\n",
       "      <td>251917.8</td>\n",
       "      <td>246549.84</td>\n",
       "      <td>5367.96</td>\n",
       "    </tr>\n",
       "    <tr>\n",
       "      <th>3</th>\n",
       "      <td>3</td>\n",
       "      <td>251917.8</td>\n",
       "      <td>246549.84</td>\n",
       "      <td>5367.96</td>\n",
       "    </tr>\n",
       "    <tr>\n",
       "      <th>4</th>\n",
       "      <td>4</td>\n",
       "      <td>251917.8</td>\n",
       "      <td>246549.84</td>\n",
       "      <td>5367.96</td>\n",
       "    </tr>\n",
       "    <tr>\n",
       "      <th>5</th>\n",
       "      <td>5</td>\n",
       "      <td>251917.8</td>\n",
       "      <td>246549.84</td>\n",
       "      <td>5367.96</td>\n",
       "    </tr>\n",
       "    <tr>\n",
       "      <th>6</th>\n",
       "      <td>6</td>\n",
       "      <td>251917.8</td>\n",
       "      <td>246549.84</td>\n",
       "      <td>5367.96</td>\n",
       "    </tr>\n",
       "    <tr>\n",
       "      <th>7</th>\n",
       "      <td>7</td>\n",
       "      <td>251917.8</td>\n",
       "      <td>246549.84</td>\n",
       "      <td>5367.96</td>\n",
       "    </tr>\n",
       "    <tr>\n",
       "      <th>8</th>\n",
       "      <td>8</td>\n",
       "      <td>251917.8</td>\n",
       "      <td>246549.84</td>\n",
       "      <td>5367.96</td>\n",
       "    </tr>\n",
       "    <tr>\n",
       "      <th>9</th>\n",
       "      <td>9</td>\n",
       "      <td>251917.8</td>\n",
       "      <td>246549.84</td>\n",
       "      <td>5367.96</td>\n",
       "    </tr>\n",
       "    <tr>\n",
       "      <th>10</th>\n",
       "      <td>10</td>\n",
       "      <td>251917.8</td>\n",
       "      <td>246549.84</td>\n",
       "      <td>5367.96</td>\n",
       "    </tr>\n",
       "  </tbody>\n",
       "</table>\n",
       "</div>"
      ],
      "text/plain": [
       "    alpha  rmse_train  rmse_validate  rmse_differnce\n",
       "0       0    251917.8      246549.84         5367.96\n",
       "1       1    251917.8      246549.84         5367.96\n",
       "2       2    251917.8      246549.84         5367.96\n",
       "3       3    251917.8      246549.84         5367.96\n",
       "4       4    251917.8      246549.84         5367.96\n",
       "5       5    251917.8      246549.84         5367.96\n",
       "6       6    251917.8      246549.84         5367.96\n",
       "7       7    251917.8      246549.84         5367.96\n",
       "8       8    251917.8      246549.84         5367.96\n",
       "9       9    251917.8      246549.84         5367.96\n",
       "10     10    251917.8      246549.84         5367.96"
      ]
     },
     "execution_count": 52,
     "metadata": {},
     "output_type": "execute_result"
    }
   ],
   "source": [
    "lassoLars_alpha = []\n",
    "lassoLars_rmse_train = []\n",
    "lassoLars_rmse_validate = []\n",
    "for i in range(0,11): \n",
    "    rmse_train, rmse_validate = get_lassoLars(X_train,y_train,X_validate,y_validate, 'tax_amount', alpha=i)\n",
    "    lassoLars_alpha.append(i)\n",
    "    lassoLars_rmse_train.append(rmse_train)\n",
    "    lassoLars_rmse_validate.append(rmse_validate)\n",
    "    \n",
    "lassoLars_df = pd.DataFrame({'alpha': lassoLars_alpha,\n",
    "                            'rmse_train': lassoLars_rmse_train,\n",
    "                            'rmse_validate': lassoLars_rmse_validate})\n",
    "    \n",
    "lassoLars_df['rmse_differnce'] =  lassoLars_df['rmse_train'] - lassoLars_df['rmse_validate']\n",
    "lassoLars_df"
   ]
  },
  {
   "cell_type": "code",
   "execution_count": 53,
   "id": "4b81d2b4",
   "metadata": {},
   "outputs": [
    {
     "data": {
      "text/plain": [
       "(251917.8, 246549.84)"
      ]
     },
     "execution_count": 53,
     "metadata": {},
     "output_type": "execute_result"
    }
   ],
   "source": [
    "rmse_lars_train, rmse_lars_validate = get_lassoLars(X_train,y_train,X_validate,y_validate, 'tax_amount', 1)\n",
    "rmse_lars_train, rmse_lars_validate"
   ]
  },
  {
   "cell_type": "code",
   "execution_count": 54,
   "id": "639e33b5",
   "metadata": {},
   "outputs": [],
   "source": [
    "def get_tweedie(X_train,y_train,X_validate,y_validate, target, power, alpha):\n",
    "    # create the model object\n",
    "    glm = TweedieRegressor(power=power, alpha=alpha)\n",
    "    # Fit the model\n",
    "    glm.fit(X_train, y_train[target])   \n",
    "    # Predict train\n",
    "    y_train['prediction_GLM'] = glm.predict(X_train)\n",
    "    # predict validate \n",
    "    y_validate['prediction_GLM'] = glm.predict(X_validate)  \n",
    "    # evaluate train RMSE\n",
    "    rmse_train = round (mean_squared_error(y_train[target], y_train['prediction_GLM'],squared=False ), 2)\n",
    "    # evaluate validate rmse\n",
    "    rmse_validate = round (mean_squared_error(y_validate[target], y_validate['prediction_GLM'],squared=False), 2)\n",
    "    \n",
    "    return rmse_train, rmse_validate\n",
    "    "
   ]
  },
  {
   "cell_type": "code",
   "execution_count": 55,
   "id": "3e4663bc",
   "metadata": {},
   "outputs": [
    {
     "data": {
      "text/html": [
       "<div>\n",
       "<style scoped>\n",
       "    .dataframe tbody tr th:only-of-type {\n",
       "        vertical-align: middle;\n",
       "    }\n",
       "\n",
       "    .dataframe tbody tr th {\n",
       "        vertical-align: top;\n",
       "    }\n",
       "\n",
       "    .dataframe thead th {\n",
       "        text-align: right;\n",
       "    }\n",
       "</style>\n",
       "<table border=\"1\" class=\"dataframe\">\n",
       "  <thead>\n",
       "    <tr style=\"text-align: right;\">\n",
       "      <th></th>\n",
       "      <th>alpha</th>\n",
       "      <th>rmse_train</th>\n",
       "      <th>rmse_validate</th>\n",
       "      <th>rmse_differnce</th>\n",
       "    </tr>\n",
       "  </thead>\n",
       "  <tbody>\n",
       "    <tr>\n",
       "      <th>0</th>\n",
       "      <td>0</td>\n",
       "      <td>245849.76</td>\n",
       "      <td>241300.19</td>\n",
       "      <td>4549.57</td>\n",
       "    </tr>\n",
       "    <tr>\n",
       "      <th>1</th>\n",
       "      <td>1</td>\n",
       "      <td>275134.61</td>\n",
       "      <td>269713.32</td>\n",
       "      <td>5421.29</td>\n",
       "    </tr>\n",
       "    <tr>\n",
       "      <th>2</th>\n",
       "      <td>2</td>\n",
       "      <td>277871.71</td>\n",
       "      <td>272329.70</td>\n",
       "      <td>5542.01</td>\n",
       "    </tr>\n",
       "    <tr>\n",
       "      <th>3</th>\n",
       "      <td>3</td>\n",
       "      <td>279103.28</td>\n",
       "      <td>273489.28</td>\n",
       "      <td>5614.00</td>\n",
       "    </tr>\n",
       "    <tr>\n",
       "      <th>4</th>\n",
       "      <td>4</td>\n",
       "      <td>279828.10</td>\n",
       "      <td>274167.91</td>\n",
       "      <td>5660.19</td>\n",
       "    </tr>\n",
       "    <tr>\n",
       "      <th>5</th>\n",
       "      <td>5</td>\n",
       "      <td>280310.45</td>\n",
       "      <td>274618.33</td>\n",
       "      <td>5692.12</td>\n",
       "    </tr>\n",
       "    <tr>\n",
       "      <th>6</th>\n",
       "      <td>6</td>\n",
       "      <td>280655.94</td>\n",
       "      <td>274940.49</td>\n",
       "      <td>5715.45</td>\n",
       "    </tr>\n",
       "    <tr>\n",
       "      <th>7</th>\n",
       "      <td>7</td>\n",
       "      <td>280916.06</td>\n",
       "      <td>275182.84</td>\n",
       "      <td>5733.22</td>\n",
       "    </tr>\n",
       "    <tr>\n",
       "      <th>8</th>\n",
       "      <td>8</td>\n",
       "      <td>281119.17</td>\n",
       "      <td>275371.97</td>\n",
       "      <td>5747.20</td>\n",
       "    </tr>\n",
       "    <tr>\n",
       "      <th>9</th>\n",
       "      <td>9</td>\n",
       "      <td>281282.25</td>\n",
       "      <td>275523.76</td>\n",
       "      <td>5758.49</td>\n",
       "    </tr>\n",
       "    <tr>\n",
       "      <th>10</th>\n",
       "      <td>10</td>\n",
       "      <td>281416.12</td>\n",
       "      <td>275648.34</td>\n",
       "      <td>5767.78</td>\n",
       "    </tr>\n",
       "  </tbody>\n",
       "</table>\n",
       "</div>"
      ],
      "text/plain": [
       "    alpha  rmse_train  rmse_validate  rmse_differnce\n",
       "0       0   245849.76      241300.19         4549.57\n",
       "1       1   275134.61      269713.32         5421.29\n",
       "2       2   277871.71      272329.70         5542.01\n",
       "3       3   279103.28      273489.28         5614.00\n",
       "4       4   279828.10      274167.91         5660.19\n",
       "5       5   280310.45      274618.33         5692.12\n",
       "6       6   280655.94      274940.49         5715.45\n",
       "7       7   280916.06      275182.84         5733.22\n",
       "8       8   281119.17      275371.97         5747.20\n",
       "9       9   281282.25      275523.76         5758.49\n",
       "10     10   281416.12      275648.34         5767.78"
      ]
     },
     "execution_count": 55,
     "metadata": {},
     "output_type": "execute_result"
    }
   ],
   "source": [
    "tweedie_alpha = []\n",
    "tweedie_rmse_train = []\n",
    "tweedie_rmse_validate = []\n",
    "for i in range(0,11): \n",
    "    rmse_train, rmse_validate = get_tweedie(X_train,y_train,X_validate,y_validate, 'tax_amount', power = 0, alpha=i)\n",
    "    tweedie_alpha.append(i)\n",
    "    tweedie_rmse_train.append(rmse_train)\n",
    "    tweedie_rmse_validate.append(rmse_validate)\n",
    "    \n",
    "tweedie_df = pd.DataFrame({'alpha': tweedie_alpha,\n",
    "                            'rmse_train': tweedie_rmse_train,\n",
    "                            'rmse_validate': tweedie_rmse_validate})\n",
    "    \n",
    "tweedie_df['rmse_differnce'] =  tweedie_df['rmse_train'] - tweedie_df['rmse_validate']\n",
    "tweedie_df"
   ]
  },
  {
   "cell_type": "code",
   "execution_count": 56,
   "id": "5fb5b070",
   "metadata": {},
   "outputs": [
    {
     "data": {
      "text/plain": [
       "(245395.21, 240971.32)"
      ]
     },
     "execution_count": 56,
     "metadata": {},
     "output_type": "execute_result"
    }
   ],
   "source": [
    "rmse_glm_train, rmse_glm_validate = get_tweedie(X_train,y_train,X_validate,y_validate, target, 1, 0)\n",
    "rmse_glm_train, rmse_glm_validate"
   ]
  },
  {
   "cell_type": "code",
   "execution_count": 57,
   "id": "5d4af946",
   "metadata": {},
   "outputs": [],
   "source": [
    "def get_polynomial(X_train,y_train,X_validate,y_validate, target, degree):\n",
    "    \n",
    "    # make the polynomial features to get a new set of features\n",
    "    pf = PolynomialFeatures(degree)\n",
    "\n",
    "    # fit and transform X_train_scaled\n",
    "    X_train_degree2 = pf.fit_transform(X_train)\n",
    "\n",
    "    # transform X_validate_scaled \n",
    "    X_validate_degree2 = pf.transform(X_validate)\n",
    "    \n",
    "    # create the model object\n",
    "    lm2 = LinearRegression()\n",
    "    # Fit the model\n",
    "    lm2.fit(X_train_degree2, y_train[target])   \n",
    "    # Predict train\n",
    "    y_train['prediction_polynomial'] = lm2.predict(X_train_degree2)\n",
    "    # predict validate \n",
    "    y_validate['prediction_polynomial'] = lm2.predict(X_validate_degree2)  \n",
    "    # evaluate train RMSE\n",
    "    rmse_train = round (mean_squared_error(y_train[target], y_train['prediction_polynomial'],squared=False ), 2)\n",
    "    # evaluate validate rmse\n",
    "    rmse_validate = round (mean_squared_error(y_validate[target], y_validate['prediction_polynomial'],squared=False), 2)\n",
    "    \n",
    "    return rmse_train, rmse_validate"
   ]
  },
  {
   "cell_type": "code",
   "execution_count": 58,
   "id": "21181916",
   "metadata": {},
   "outputs": [
    {
     "data": {
      "text/html": [
       "<div>\n",
       "<style scoped>\n",
       "    .dataframe tbody tr th:only-of-type {\n",
       "        vertical-align: middle;\n",
       "    }\n",
       "\n",
       "    .dataframe tbody tr th {\n",
       "        vertical-align: top;\n",
       "    }\n",
       "\n",
       "    .dataframe thead th {\n",
       "        text-align: right;\n",
       "    }\n",
       "</style>\n",
       "<table border=\"1\" class=\"dataframe\">\n",
       "  <thead>\n",
       "    <tr style=\"text-align: right;\">\n",
       "      <th></th>\n",
       "      <th>degree</th>\n",
       "      <th>rmse_train</th>\n",
       "      <th>rmse_validate</th>\n",
       "      <th>rmse_differnce</th>\n",
       "    </tr>\n",
       "  </thead>\n",
       "  <tbody>\n",
       "    <tr>\n",
       "      <th>0</th>\n",
       "      <td>1</td>\n",
       "      <td>245857.32</td>\n",
       "      <td>241340.72</td>\n",
       "      <td>4516.60</td>\n",
       "    </tr>\n",
       "    <tr>\n",
       "      <th>1</th>\n",
       "      <td>2</td>\n",
       "      <td>244798.14</td>\n",
       "      <td>240173.04</td>\n",
       "      <td>4625.10</td>\n",
       "    </tr>\n",
       "    <tr>\n",
       "      <th>2</th>\n",
       "      <td>3</td>\n",
       "      <td>244170.86</td>\n",
       "      <td>239729.31</td>\n",
       "      <td>4441.55</td>\n",
       "    </tr>\n",
       "    <tr>\n",
       "      <th>3</th>\n",
       "      <td>4</td>\n",
       "      <td>244054.70</td>\n",
       "      <td>240088.95</td>\n",
       "      <td>3965.75</td>\n",
       "    </tr>\n",
       "  </tbody>\n",
       "</table>\n",
       "</div>"
      ],
      "text/plain": [
       "   degree  rmse_train  rmse_validate  rmse_differnce\n",
       "0       1   245857.32      241340.72         4516.60\n",
       "1       2   244798.14      240173.04         4625.10\n",
       "2       3   244170.86      239729.31         4441.55\n",
       "3       4   244054.70      240088.95         3965.75"
      ]
     },
     "execution_count": 58,
     "metadata": {},
     "output_type": "execute_result"
    }
   ],
   "source": [
    "polynomial_degree = []\n",
    "polynomial_rmse_train = []\n",
    "polynomial_rmse_validate = []\n",
    "for i in range(1,5): \n",
    "    rmse_train, rmse_validate = get_polynomial(X_train,y_train,X_validate,y_validate, 'tax_amount', degree=i)\n",
    "    polynomial_degree.append(i)\n",
    "    polynomial_rmse_train.append(rmse_train)\n",
    "    polynomial_rmse_validate.append(rmse_validate)\n",
    "    \n",
    "polynomial_df = pd.DataFrame({'degree': polynomial_degree,\n",
    "                            'rmse_train': polynomial_rmse_train,\n",
    "                            'rmse_validate': polynomial_rmse_validate})\n",
    "    \n",
    "polynomial_df['rmse_differnce'] =  polynomial_df['rmse_train'] - polynomial_df['rmse_validate']\n",
    "polynomial_df"
   ]
  },
  {
   "cell_type": "code",
   "execution_count": 59,
   "id": "639810b6",
   "metadata": {},
   "outputs": [
    {
     "data": {
      "text/plain": [
       "(244170.86, 239729.31)"
      ]
     },
     "execution_count": 59,
     "metadata": {},
     "output_type": "execute_result"
    }
   ],
   "source": [
    "rmse_poly_train, rmse_poly_validate= get_polynomial(X_train,y_train,X_validate,y_validate,'tax_amount', 3)\n",
    "rmse_poly_train, rmse_poly_validate"
   ]
  },
  {
   "cell_type": "code",
   "execution_count": 60,
   "id": "c89c1e4f",
   "metadata": {},
   "outputs": [
    {
     "data": {
      "text/plain": [
       "(245395.21, 240971.32)"
      ]
     },
     "execution_count": 60,
     "metadata": {},
     "output_type": "execute_result"
    }
   ],
   "source": [
    "rmse_glm_train, rmse_glm_validate = get_tweedie(X_train,y_train,X_validate,y_validate, target, 1, 0)\n",
    "rmse_glm_train, rmse_glm_validate"
   ]
  },
  {
   "cell_type": "code",
   "execution_count": 61,
   "id": "480c6ace",
   "metadata": {},
   "outputs": [
    {
     "data": {
      "text/plain": [
       "(251917.8, 246549.84)"
      ]
     },
     "execution_count": 61,
     "metadata": {},
     "output_type": "execute_result"
    }
   ],
   "source": [
    "rmse_lars_train, rmse_lars_validate = get_lassoLars(X_train,y_train,X_validate,y_validate, 'tax_amount', 1)\n",
    "rmse_lars_train, rmse_lars_validate"
   ]
  },
  {
   "cell_type": "code",
   "execution_count": 62,
   "id": "0b57b56e",
   "metadata": {},
   "outputs": [
    {
     "data": {
      "text/plain": [
       "(245856.22, 241331.46)"
      ]
     },
     "execution_count": 62,
     "metadata": {},
     "output_type": "execute_result"
    }
   ],
   "source": [
    "rmse_lm_train, rmse_lm_validate = get_linear_regression(X_train,y_train,X_validate,y_validate, 'tax_amount')\n",
    "rmse_lm_train, rmse_lm_validate"
   ]
  },
  {
   "cell_type": "code",
   "execution_count": 63,
   "id": "dfa67c25",
   "metadata": {},
   "outputs": [
    {
     "data": {
      "text/html": [
       "<div>\n",
       "<style scoped>\n",
       "    .dataframe tbody tr th:only-of-type {\n",
       "        vertical-align: middle;\n",
       "    }\n",
       "\n",
       "    .dataframe tbody tr th {\n",
       "        vertical-align: top;\n",
       "    }\n",
       "\n",
       "    .dataframe thead th {\n",
       "        text-align: right;\n",
       "    }\n",
       "</style>\n",
       "<table border=\"1\" class=\"dataframe\">\n",
       "  <thead>\n",
       "    <tr style=\"text-align: right;\">\n",
       "      <th></th>\n",
       "      <th>model</th>\n",
       "      <th>train_RMSE</th>\n",
       "      <th>validate_RMSE</th>\n",
       "      <th>difference</th>\n",
       "    </tr>\n",
       "  </thead>\n",
       "  <tbody>\n",
       "    <tr>\n",
       "      <th>0</th>\n",
       "      <td>baseline</td>\n",
       "      <td>282783.972352</td>\n",
       "      <td>276920.19154</td>\n",
       "      <td>5863.780812</td>\n",
       "    </tr>\n",
       "    <tr>\n",
       "      <th>1</th>\n",
       "      <td>LinearRegreesion</td>\n",
       "      <td>245856.220000</td>\n",
       "      <td>241331.46000</td>\n",
       "      <td>4524.760000</td>\n",
       "    </tr>\n",
       "    <tr>\n",
       "      <th>2</th>\n",
       "      <td>LassoLars(alpha=1)</td>\n",
       "      <td>251917.800000</td>\n",
       "      <td>246549.84000</td>\n",
       "      <td>5367.960000</td>\n",
       "    </tr>\n",
       "    <tr>\n",
       "      <th>3</th>\n",
       "      <td>TweedieRegreesor(power=0, alpha=0)</td>\n",
       "      <td>245395.210000</td>\n",
       "      <td>240971.32000</td>\n",
       "      <td>4423.890000</td>\n",
       "    </tr>\n",
       "    <tr>\n",
       "      <th>4</th>\n",
       "      <td>Polynomial Regression(degree=3)</td>\n",
       "      <td>244170.860000</td>\n",
       "      <td>239729.31000</td>\n",
       "      <td>4441.550000</td>\n",
       "    </tr>\n",
       "  </tbody>\n",
       "</table>\n",
       "</div>"
      ],
      "text/plain": [
       "                                model     train_RMSE  validate_RMSE  \\\n",
       "0                            baseline  282783.972352   276920.19154   \n",
       "1                    LinearRegreesion  245856.220000   241331.46000   \n",
       "2                  LassoLars(alpha=1)  251917.800000   246549.84000   \n",
       "3  TweedieRegreesor(power=0, alpha=0)  245395.210000   240971.32000   \n",
       "4     Polynomial Regression(degree=3)  244170.860000   239729.31000   \n",
       "\n",
       "    difference  \n",
       "0  5863.780812  \n",
       "1  4524.760000  \n",
       "2  5367.960000  \n",
       "3  4423.890000  \n",
       "4  4441.550000  "
      ]
     },
     "execution_count": 63,
     "metadata": {},
     "output_type": "execute_result"
    }
   ],
   "source": [
    "metric_df = pd.DataFrame({'model': ['baseline', 'LinearRegreesion', 'LassoLars(alpha=1)', 'TweedieRegreesor(power=0, alpha=0)','Polynomial Regression(degree=3)'],\n",
    "                         'train_RMSE': [train_rmse_mean, rmse_lm_train, rmse_lars_train, rmse_glm_train, rmse_poly_train],\n",
    "                         'validate_RMSE': [validate_rmse_mean, rmse_lm_validate, rmse_lars_validate, rmse_glm_validate, rmse_poly_validate]})\n",
    "metric_df['difference'] = metric_df['train_RMSE'] - metric_df['validate_RMSE']\n",
    "metric_df"
   ]
  },
  {
   "cell_type": "code",
   "execution_count": 64,
   "id": "37f09928",
   "metadata": {},
   "outputs": [],
   "source": [
    "def rmse_models():\n",
    "    train_rmse_mean, validate_rmse_mean = get_rmse_mean(train, validate,'tax_amount')\n",
    "    rmse_lm_train, rmse_lm_validate = get_linear_regression(X_train,y_train,X_validate,y_validate, 'tax_amount')\n",
    "    rmse_lars_train, rmse_lars_validate = get_lassoLars(X_train,y_train,X_validate,y_validate, 'tax_amount', 1)\n",
    "    rmse_glm_train, rmse_glm_validate = get_tweedie(X_train,y_train,X_validate,y_validate, target, 1, 0)\n",
    "    rmse_poly_train, rmse_poly_validate= get_polynomial(X_train,y_train,X_validate,y_validate,'tax_amount', 3)\n",
    "    index = ['baseline', 'LinearRegreesion', 'LassoLars(alpha=1)', 'TweedieRegreesor(power=0, alpha=0)','Polynomial Regression(degree=3)']\n",
    "    metric_df = pd.DataFrame({'train_RMSE':[train_rmse_mean, rmse_lm_train, rmse_lars_train, rmse_glm_train, rmse_poly_train],\n",
    "                         'validate_RMSE': [validate_rmse_mean, rmse_lm_validate, rmse_lars_validate, rmse_glm_validate, rmse_poly_validate]},index=index)\n",
    "    return metric_df\n"
   ]
  },
  {
   "cell_type": "code",
   "execution_count": 65,
   "id": "7c30930f",
   "metadata": {},
   "outputs": [
    {
     "name": "stdout",
     "output_type": "stream",
     "text": [
      "RMSE using mean\n",
      "train_RMSE: 282783.9723515096\n",
      "validate RMSE: 276920.1915397434\n"
     ]
    },
    {
     "data": {
      "text/html": [
       "<div>\n",
       "<style scoped>\n",
       "    .dataframe tbody tr th:only-of-type {\n",
       "        vertical-align: middle;\n",
       "    }\n",
       "\n",
       "    .dataframe tbody tr th {\n",
       "        vertical-align: top;\n",
       "    }\n",
       "\n",
       "    .dataframe thead th {\n",
       "        text-align: right;\n",
       "    }\n",
       "</style>\n",
       "<table border=\"1\" class=\"dataframe\">\n",
       "  <thead>\n",
       "    <tr style=\"text-align: right;\">\n",
       "      <th></th>\n",
       "      <th>train_RMSE</th>\n",
       "      <th>validate_RMSE</th>\n",
       "    </tr>\n",
       "  </thead>\n",
       "  <tbody>\n",
       "    <tr>\n",
       "      <th>baseline</th>\n",
       "      <td>282783.972352</td>\n",
       "      <td>276920.19154</td>\n",
       "    </tr>\n",
       "    <tr>\n",
       "      <th>LinearRegreesion</th>\n",
       "      <td>245856.220000</td>\n",
       "      <td>241331.46000</td>\n",
       "    </tr>\n",
       "    <tr>\n",
       "      <th>LassoLars(alpha=1)</th>\n",
       "      <td>251917.800000</td>\n",
       "      <td>246549.84000</td>\n",
       "    </tr>\n",
       "    <tr>\n",
       "      <th>TweedieRegreesor(power=0, alpha=0)</th>\n",
       "      <td>245395.210000</td>\n",
       "      <td>240971.32000</td>\n",
       "    </tr>\n",
       "    <tr>\n",
       "      <th>Polynomial Regression(degree=3)</th>\n",
       "      <td>244170.860000</td>\n",
       "      <td>239729.31000</td>\n",
       "    </tr>\n",
       "  </tbody>\n",
       "</table>\n",
       "</div>"
      ],
      "text/plain": [
       "                                       train_RMSE  validate_RMSE\n",
       "baseline                            282783.972352   276920.19154\n",
       "LinearRegreesion                    245856.220000   241331.46000\n",
       "LassoLars(alpha=1)                  251917.800000   246549.84000\n",
       "TweedieRegreesor(power=0, alpha=0)  245395.210000   240971.32000\n",
       "Polynomial Regression(degree=3)     244170.860000   239729.31000"
      ]
     },
     "execution_count": 65,
     "metadata": {},
     "output_type": "execute_result"
    }
   ],
   "source": [
    "rmse_df = rmse_models()\n",
    "rmse_df "
   ]
  },
  {
   "cell_type": "code",
   "execution_count": 66,
   "id": "8f69340c",
   "metadata": {},
   "outputs": [],
   "source": [
    "def plot_bar_rmse(df ):\n",
    "    ax = df.plot.bar(rot=75)\n",
    "    ax.spines[['right', 'top']].set_visible(False)\n",
    "    plt.title(\"Comparisons of RMSE\")\n",
    "    plt.ylabel('Home  Value  ($)')\n",
    "    plt.ylim(200000, 290000)\n",
    "    \n",
    "\n"
   ]
  },
  {
   "cell_type": "code",
   "execution_count": 67,
   "id": "43d86973",
   "metadata": {},
   "outputs": [
    {
     "data": {
      "image/png": "[encoded data removed]",
      "text/plain": [
       "<Figure size 640x480 with 1 Axes>"
      ]
     },
     "metadata": {},
     "output_type": "display_data"
    }
   ],
   "source": [
    "plot_bar_rmse(rmse_df)"
   ]
  },
  {
   "cell_type": "code",
   "execution_count": 68,
   "id": "f8b5a619",
   "metadata": {},
   "outputs": [],
   "source": [
    "def get_polynomial_test(X_train,y_train,X_test,y_test, target, degree):\n",
    "    \n",
    "    # make the polynomial features to get a new set of features\n",
    "    pf = PolynomialFeatures(degree)\n",
    "\n",
    "    # fit and transform X_train_scaled\n",
    "    X_train_degree = pf.fit_transform(X_train)\n",
    "\n",
    "    # transform X_validate_scaled \n",
    "    X_test_degree = pf.transform(X_test)\n",
    "    \n",
    "    # create the model object\n",
    "    lm = LinearRegression()\n",
    "    # Fit the model\n",
    "    lm.fit(X_train_degree, y_train[target])   \n",
    "\n",
    "    # predict test \n",
    "    y_test['prediction_polynomial_test'] = lm.predict(X_test_degree)  \n",
    "    # evaluate test rmse\n",
    "    rmse_test = round (mean_squared_error(y_test[target], y_test['prediction_polynomial_test'],squared=False), 2)\n",
    "    r2 = explained_variance_score(y_test[target], y_test['prediction_polynomial_test'])\n",
    "    print('Using polynomial Regresion on test')\n",
    "    print(f'RMSE : { rmse_test}')\n",
    "    print(f'r2 : {r2}')\n",
    "    return  rmse_test"
   ]
  },
  {
   "cell_type": "code",
   "execution_count": 69,
   "id": "7230ee36",
   "metadata": {},
   "outputs": [
    {
     "name": "stdout",
     "output_type": "stream",
     "text": [
      "Using polynomial Regresion on test\n",
      "RMSE : 243281.01\n",
      "r2 : 0.2541388992917609\n"
     ]
    },
    {
     "data": {
      "text/plain": [
       "243281.01"
      ]
     },
     "execution_count": 69,
     "metadata": {},
     "output_type": "execute_result"
    }
   ],
   "source": [
    "get_polynomial_test(X_train,y_train,X_test,y_test, 'tax_amount', 3)\n"
   ]
  },
  {
   "cell_type": "code",
   "execution_count": 70,
   "id": "8b7f7d80",
   "metadata": {},
   "outputs": [
    {
     "data": {
      "text/html": [
       "<div>\n",
       "<style scoped>\n",
       "    .dataframe tbody tr th:only-of-type {\n",
       "        vertical-align: middle;\n",
       "    }\n",
       "\n",
       "    .dataframe tbody tr th {\n",
       "        vertical-align: top;\n",
       "    }\n",
       "\n",
       "    .dataframe thead th {\n",
       "        text-align: right;\n",
       "    }\n",
       "</style>\n",
       "<table border=\"1\" class=\"dataframe\">\n",
       "  <thead>\n",
       "    <tr style=\"text-align: right;\">\n",
       "      <th></th>\n",
       "      <th>tax_amount</th>\n",
       "      <th>prediction_OLS</th>\n",
       "      <th>prediction_lassoLars</th>\n",
       "      <th>prediction_GLM</th>\n",
       "      <th>prediction_polynomial</th>\n",
       "    </tr>\n",
       "  </thead>\n",
       "  <tbody>\n",
       "    <tr>\n",
       "      <th>24005</th>\n",
       "      <td>349000.0</td>\n",
       "      <td>599506.899954</td>\n",
       "      <td>547115.217302</td>\n",
       "      <td>585696.207826</td>\n",
       "      <td>566290.980745</td>\n",
       "    </tr>\n",
       "    <tr>\n",
       "      <th>10859</th>\n",
       "      <td>793000.0</td>\n",
       "      <td>501074.899954</td>\n",
       "      <td>428749.852896</td>\n",
       "      <td>465787.350314</td>\n",
       "      <td>510930.980745</td>\n",
       "    </tr>\n",
       "    <tr>\n",
       "      <th>40615</th>\n",
       "      <td>127619.0</td>\n",
       "      <td>344530.899954</td>\n",
       "      <td>361601.857750</td>\n",
       "      <td>336303.989869</td>\n",
       "      <td>336658.980745</td>\n",
       "    </tr>\n",
       "    <tr>\n",
       "      <th>44400</th>\n",
       "      <td>488770.0</td>\n",
       "      <td>300370.899954</td>\n",
       "      <td>332003.728311</td>\n",
       "      <td>306823.956866</td>\n",
       "      <td>295666.980745</td>\n",
       "    </tr>\n",
       "    <tr>\n",
       "      <th>47188</th>\n",
       "      <td>305739.0</td>\n",
       "      <td>440722.899954</td>\n",
       "      <td>371052.478489</td>\n",
       "      <td>417773.586475</td>\n",
       "      <td>402194.980745</td>\n",
       "    </tr>\n",
       "    <tr>\n",
       "      <th>...</th>\n",
       "      <td>...</td>\n",
       "      <td>...</td>\n",
       "      <td>...</td>\n",
       "      <td>...</td>\n",
       "      <td>...</td>\n",
       "    </tr>\n",
       "    <tr>\n",
       "      <th>48011</th>\n",
       "      <td>195806.0</td>\n",
       "      <td>333138.899954</td>\n",
       "      <td>353944.630233</td>\n",
       "      <td>328416.101747</td>\n",
       "      <td>325938.980745</td>\n",
       "    </tr>\n",
       "    <tr>\n",
       "      <th>47776</th>\n",
       "      <td>161012.0</td>\n",
       "      <td>231506.899954</td>\n",
       "      <td>271067.570280</td>\n",
       "      <td>259206.112663</td>\n",
       "      <td>255026.980745</td>\n",
       "    </tr>\n",
       "    <tr>\n",
       "      <th>20304</th>\n",
       "      <td>205321.0</td>\n",
       "      <td>380562.899954</td>\n",
       "      <td>367980.478489</td>\n",
       "      <td>368389.149934</td>\n",
       "      <td>366546.980745</td>\n",
       "    </tr>\n",
       "    <tr>\n",
       "      <th>20066</th>\n",
       "      <td>194657.0</td>\n",
       "      <td>203730.899954</td>\n",
       "      <td>252513.518989</td>\n",
       "      <td>244719.842578</td>\n",
       "      <td>236530.980745</td>\n",
       "    </tr>\n",
       "    <tr>\n",
       "      <th>18237</th>\n",
       "      <td>238172.0</td>\n",
       "      <td>595666.899954</td>\n",
       "      <td>506914.772840</td>\n",
       "      <td>581599.156305</td>\n",
       "      <td>582322.980745</td>\n",
       "    </tr>\n",
       "  </tbody>\n",
       "</table>\n",
       "<p>26227 rows × 5 columns</p>\n",
       "</div>"
      ],
      "text/plain": [
       "       tax_amount  prediction_OLS  prediction_lassoLars  prediction_GLM  \\\n",
       "24005    349000.0   599506.899954         547115.217302   585696.207826   \n",
       "10859    793000.0   501074.899954         428749.852896   465787.350314   \n",
       "40615    127619.0   344530.899954         361601.857750   336303.989869   \n",
       "44400    488770.0   300370.899954         332003.728311   306823.956866   \n",
       "47188    305739.0   440722.899954         371052.478489   417773.586475   \n",
       "...           ...             ...                   ...             ...   \n",
       "48011    195806.0   333138.899954         353944.630233   328416.101747   \n",
       "47776    161012.0   231506.899954         271067.570280   259206.112663   \n",
       "20304    205321.0   380562.899954         367980.478489   368389.149934   \n",
       "20066    194657.0   203730.899954         252513.518989   244719.842578   \n",
       "18237    238172.0   595666.899954         506914.772840   581599.156305   \n",
       "\n",
       "       prediction_polynomial  \n",
       "24005          566290.980745  \n",
       "10859          510930.980745  \n",
       "40615          336658.980745  \n",
       "44400          295666.980745  \n",
       "47188          402194.980745  \n",
       "...                      ...  \n",
       "48011          325938.980745  \n",
       "47776          255026.980745  \n",
       "20304          366546.980745  \n",
       "20066          236530.980745  \n",
       "18237          582322.980745  \n",
       "\n",
       "[26227 rows x 5 columns]"
      ]
     },
     "execution_count": 70,
     "metadata": {},
     "output_type": "execute_result"
    }
   ],
   "source": [
    "y_train"
   ]
  },
  {
   "cell_type": "code",
   "execution_count": 71,
   "id": "61d46081",
   "metadata": {},
   "outputs": [
    {
     "data": {
      "text/html": [
       "<div>\n",
       "<style scoped>\n",
       "    .dataframe tbody tr th:only-of-type {\n",
       "        vertical-align: middle;\n",
       "    }\n",
       "\n",
       "    .dataframe tbody tr th {\n",
       "        vertical-align: top;\n",
       "    }\n",
       "\n",
       "    .dataframe thead th {\n",
       "        text-align: right;\n",
       "    }\n",
       "</style>\n",
       "<table border=\"1\" class=\"dataframe\">\n",
       "  <thead>\n",
       "    <tr style=\"text-align: right;\">\n",
       "      <th></th>\n",
       "      <th>tax_amount</th>\n",
       "      <th>prediction_polynomial_test</th>\n",
       "    </tr>\n",
       "  </thead>\n",
       "  <tbody>\n",
       "    <tr>\n",
       "      <th>14082</th>\n",
       "      <td>362126.0</td>\n",
       "      <td>454994.980745</td>\n",
       "    </tr>\n",
       "    <tr>\n",
       "      <th>26213</th>\n",
       "      <td>105352.0</td>\n",
       "      <td>264050.980745</td>\n",
       "    </tr>\n",
       "    <tr>\n",
       "      <th>18180</th>\n",
       "      <td>93148.0</td>\n",
       "      <td>324658.980745</td>\n",
       "    </tr>\n",
       "    <tr>\n",
       "      <th>39421</th>\n",
       "      <td>616000.0</td>\n",
       "      <td>407570.980745</td>\n",
       "    </tr>\n",
       "    <tr>\n",
       "      <th>44544</th>\n",
       "      <td>367771.0</td>\n",
       "      <td>289970.980745</td>\n",
       "    </tr>\n",
       "    <tr>\n",
       "      <th>...</th>\n",
       "      <td>...</td>\n",
       "      <td>...</td>\n",
       "    </tr>\n",
       "    <tr>\n",
       "      <th>40800</th>\n",
       "      <td>585788.0</td>\n",
       "      <td>603154.980745</td>\n",
       "    </tr>\n",
       "    <tr>\n",
       "      <th>41866</th>\n",
       "      <td>441655.0</td>\n",
       "      <td>656530.980745</td>\n",
       "    </tr>\n",
       "    <tr>\n",
       "      <th>49496</th>\n",
       "      <td>784529.0</td>\n",
       "      <td>951890.980745</td>\n",
       "    </tr>\n",
       "    <tr>\n",
       "      <th>12310</th>\n",
       "      <td>289169.0</td>\n",
       "      <td>448850.980745</td>\n",
       "    </tr>\n",
       "    <tr>\n",
       "      <th>31178</th>\n",
       "      <td>275867.0</td>\n",
       "      <td>304562.980745</td>\n",
       "    </tr>\n",
       "  </tbody>\n",
       "</table>\n",
       "<p>9367 rows × 2 columns</p>\n",
       "</div>"
      ],
      "text/plain": [
       "       tax_amount  prediction_polynomial_test\n",
       "14082    362126.0               454994.980745\n",
       "26213    105352.0               264050.980745\n",
       "18180     93148.0               324658.980745\n",
       "39421    616000.0               407570.980745\n",
       "44544    367771.0               289970.980745\n",
       "...           ...                         ...\n",
       "40800    585788.0               603154.980745\n",
       "41866    441655.0               656530.980745\n",
       "49496    784529.0               951890.980745\n",
       "12310    289169.0               448850.980745\n",
       "31178    275867.0               304562.980745\n",
       "\n",
       "[9367 rows x 2 columns]"
      ]
     },
     "execution_count": 71,
     "metadata": {},
     "output_type": "execute_result"
    }
   ],
   "source": [
    "y_test"
   ]
  },
  {
   "cell_type": "code",
   "execution_count": null,
   "id": "17c6e336",
   "metadata": {},
   "outputs": [],
   "source": []
  },
  {
   "cell_type": "code",
   "execution_count": null,
   "id": "84d214ec",
   "metadata": {},
   "outputs": [],
   "source": []
  }
 ],
 "metadata": {
  "kernelspec": {
   "display_name": "Python 3 (ipykernel)",
   "language": "python",
   "name": "python3"
  },
  "language_info": {
   "codemirror_mode": {
    "name": "ipython",
    "version": 3
   },
   "file_extension": ".py",
   "mimetype": "text/x-python",
   "name": "python",
   "nbconvert_exporter": "python",
   "pygments_lexer": "ipython3",
   "version": "3.9.13"
  }
 },
 "nbformat": 4,
 "nbformat_minor": 5
}
